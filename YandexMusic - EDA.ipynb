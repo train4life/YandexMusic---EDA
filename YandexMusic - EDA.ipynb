{
 "cells": [
  {
   "cell_type": "markdown",
   "metadata": {},
   "source": [
    "<div style=\"border:solid green 2px; padding: 20px\"> <h1 style=\"color:green; margin-bottom:20px\">Reviewer's comment v1</h1>\n",
    "\n",
    "Hello Christopher, my name is Dmitrii. I'm going to review your project! Nice to meet you! 🙌\n",
    "\n",
    "You can find my comments under the heading **«Review»**. I will categorize my comments in green, blue or red boxes like this:\n",
    "\n",
    "<div class=\"alert alert-success\">\n",
    "    <b>Success:</b> if everything is done successfully\n",
    "</div>\n",
    "<div class=\"alert alert-warning\">\n",
    "    <b>Remarks:</b> if I can give some recommendations or ways to improve the project\n",
    "   \n",
    "</div>\n",
    "<div class=\"alert alert-danger\">\n",
    "    <b>Needs fixing:</b> if the block requires some corrections. Work can't be accepted with the red comments\n",
    "</div>\n",
    "\n",
    "Please don't remove my comments :) If you have any questions don't hesitate to respond to my comments in a different section. \n",
    "<div class=\"alert alert-info\"> <b>Student comments:</b> For example like this</div>   \n",
    "   "
   ]
  },
  {
   "cell_type": "markdown",
   "metadata": {},
   "source": [
    "<div style=\"border:solid green 2px; padding: 20px\">\n",
    "<b>Reviewer's comment v1:</b>\n",
    "    \n",
    "<b>Overall Feedback</b> \n",
    "    \n",
    "- Overall well done! I can see that a lot of effort has been made! Your project looks very good and you accomplished impressive results.\n",
    "- However, there are some comments/areas left to fix that will help you to make your project even better:\n",
    "    - Add a for loop to fill in placeholder only in the selected columns.\n",
    "  \n",
    "And of course, if you have any questions along the way, remember that you can always reach out to your tutor for any clarification.\n",
    "    \n",
    "I will wait for you to send me a new version of the project :)\n",
    "\n",
    "    \n",
    "</div>"
   ]
  },
  {
   "cell_type": "markdown",
   "metadata": {},
   "source": [
    "<div style=\"border:solid green 2px; padding: 20px\">\n",
    "<b>Reviewer's comment v2:</b>\n",
    "    \n",
    "<b>Overall Feedback</b> \n",
    "\n",
    "Hello Christopher,  thank you for making all improvements in your project! It looks perfect now and there are no critical issues. \n",
    "    \n",
    "Please keep up great work and don't hesitate to use this project as a reference in your future sprints. \n",
    "   \n",
    "Good luck on the next project 🍀 \n",
    "</div>"
   ]
  },
  {
   "cell_type": "markdown",
   "metadata": {
    "id": "E0vqbgi9ay0H"
   },
   "source": [
    "# Yandex.Music"
   ]
  },
  {
   "cell_type": "markdown",
   "metadata": {
    "id": "fhq_eyov_Zcs"
   },
   "source": [
    "# Contents <a id='back'></a>\n",
    "\n",
    "* [Introduction](#intro)\n",
    "* [Stage 1. Data overview](#data_review)\n",
    "    * [Conclusions](#data_review_conclusions)\n",
    "* [Stage 2. Data preprocessing](#data_preprocessing)\n",
    "    * [2.1 Header style](#header_style)\n",
    "    * [2.2 Missing values](#missing_values)\n",
    "    * [2.3 Duplicates](#duplicates)\n",
    "    * [2.4 Conclusions](#data_preprocessing_conclusions)\n",
    "* [Stage 3. Testing the hypotheses](#hypotheses)\n",
    "    * [3.1 Hypothesis 1: user activity in the two cities](#activity)\n",
    "    * [3.2 Hypothesis 2: music preferences on Monday and Friday](#week)\n",
    "    * [3.3 Hypothesis 3: genre preferences in Springfield and Shelbyville](#genre)\n",
    "* [Findings](#end)"
   ]
  },
  {
   "cell_type": "markdown",
   "metadata": {
    "id": "VUC88oWjTJw2"
   },
   "source": [
    "## Introduction <a id='intro'></a>\n",
    "Whenever we're doing research, we need to formulate hypotheses that we can then test. Sometimes we accept these hypotheses; other times, we reject them. To make the right decisions, a business must be able to understand whether or not it's making the right assumptions.\n",
    "\n",
    "In this project, you'll compare the music preferences of the cities of Springfield and Shelbyville. You'll study real Yandex.Music data to test the hypotheses below and compare user behavior for these two cities.\n",
    "\n",
    "### Goal: \n",
    "Test three hypotheses:\n",
    "1. User activity differs depending on the day of the week and from city to city. \n",
    "2. On Monday mornings, Springfield and Shelbyville residents listen to different genres. This is also true for Friday evenings. \n",
    "3. Springfield and Shelbyville listeners have different preferences. In Springfield, they prefer pop, while Shelbyville has more rap fans.\n",
    "\n",
    "### Stages \n",
    "Data on user behavior is stored in the file `/datasets/music_project_en.csv`. There is no information about the quality of the data, so you will need to explore it before testing the hypotheses. \n",
    "\n",
    "First, you'll evaluate the quality of the data and see whether its issues are significant. Then, during data preprocessing, you will try to account for the most critical problems.\n",
    " \n",
    "Your project will consist of three stages:\n",
    " 1. Data overview\n",
    " 2. Data preprocessing\n",
    " 3. Testing the hypotheses\n",
    " \n",
    "[Back to Contents](#back)"
   ]
  },
  {
   "cell_type": "markdown",
   "metadata": {},
   "source": [
    "<div class=\"alert alert-success\">\n",
    "<b>Reviewer's comment v1:</b>\n",
    "    \n",
    "Great that you added additional information about project tasks. It gives an overview of what you are going to achieve in this project.\n"
   ]
  },
  {
   "cell_type": "markdown",
   "metadata": {
    "id": "Ml1hmfXC_Zcs"
   },
   "source": [
    "## Stage 1. Data overview <a id='data_review'></a>\n",
    "\n",
    "Open the data on Yandex.Music and explore it."
   ]
  },
  {
   "cell_type": "markdown",
   "metadata": {
    "id": "57eAOGIz_Zcs"
   },
   "source": [
    "You'll need `pandas`, so import it."
   ]
  },
  {
   "cell_type": "code",
   "execution_count": 1,
   "metadata": {
    "id": "AXN7PHPN_Zcs"
   },
   "outputs": [],
   "source": [
    "# importing pandas\n",
    "import pandas as pd"
   ]
  },
  {
   "cell_type": "markdown",
   "metadata": {
    "id": "SG23P8tt_Zcs"
   },
   "source": [
    "Read the file `music_project_en.csv` from the `/datasets/` folder and save it in the `df` variable:"
   ]
  },
  {
   "cell_type": "code",
   "execution_count": 2,
   "metadata": {
    "id": "fFVu7vqh_Zct"
   },
   "outputs": [
    {
     "data": {
      "text/html": [
       "<div>\n",
       "<style scoped>\n",
       "    .dataframe tbody tr th:only-of-type {\n",
       "        vertical-align: middle;\n",
       "    }\n",
       "\n",
       "    .dataframe tbody tr th {\n",
       "        vertical-align: top;\n",
       "    }\n",
       "\n",
       "    .dataframe thead th {\n",
       "        text-align: right;\n",
       "    }\n",
       "</style>\n",
       "<table border=\"1\" class=\"dataframe\">\n",
       "  <thead>\n",
       "    <tr style=\"text-align: right;\">\n",
       "      <th></th>\n",
       "      <th>userID</th>\n",
       "      <th>Track</th>\n",
       "      <th>artist</th>\n",
       "      <th>genre</th>\n",
       "      <th>City</th>\n",
       "      <th>time</th>\n",
       "      <th>Day</th>\n",
       "    </tr>\n",
       "  </thead>\n",
       "  <tbody>\n",
       "    <tr>\n",
       "      <th>count</th>\n",
       "      <td>65079</td>\n",
       "      <td>63736</td>\n",
       "      <td>57512</td>\n",
       "      <td>63881</td>\n",
       "      <td>65079</td>\n",
       "      <td>65079</td>\n",
       "      <td>65079</td>\n",
       "    </tr>\n",
       "    <tr>\n",
       "      <th>unique</th>\n",
       "      <td>41748</td>\n",
       "      <td>39666</td>\n",
       "      <td>37806</td>\n",
       "      <td>268</td>\n",
       "      <td>2</td>\n",
       "      <td>20392</td>\n",
       "      <td>3</td>\n",
       "    </tr>\n",
       "    <tr>\n",
       "      <th>top</th>\n",
       "      <td>A8AE9169</td>\n",
       "      <td>Brand</td>\n",
       "      <td>Kartvelli</td>\n",
       "      <td>pop</td>\n",
       "      <td>Springfield</td>\n",
       "      <td>08:14:07</td>\n",
       "      <td>Friday</td>\n",
       "    </tr>\n",
       "    <tr>\n",
       "      <th>freq</th>\n",
       "      <td>76</td>\n",
       "      <td>136</td>\n",
       "      <td>136</td>\n",
       "      <td>8850</td>\n",
       "      <td>45360</td>\n",
       "      <td>14</td>\n",
       "      <td>23149</td>\n",
       "    </tr>\n",
       "  </tbody>\n",
       "</table>\n",
       "</div>"
      ],
      "text/plain": [
       "          userID  Track     artist  genre       City        time     Day\n",
       "count      65079  63736      57512  63881        65079     65079   65079\n",
       "unique     41748  39666      37806    268            2     20392       3\n",
       "top     A8AE9169  Brand  Kartvelli    pop  Springfield  08:14:07  Friday\n",
       "freq          76    136        136   8850        45360        14   23149"
      ]
     },
     "execution_count": 2,
     "metadata": {},
     "output_type": "execute_result"
    }
   ],
   "source": [
    "# reading the file and storing it to df\n",
    "df = pd.read_csv('/datasets/music_project_en.csv')\n",
    "df.describe()"
   ]
  },
  {
   "cell_type": "markdown",
   "metadata": {},
   "source": [
    "<div class=\"alert alert-success\">\n",
    "<b>Reviewer's comment v1:</b>\n",
    "    \n",
    "Well done! Usually, it helps to group all imports (data and library) into two separate cells at the beginning of the project (exactly as you did). "
   ]
  },
  {
   "cell_type": "markdown",
   "metadata": {
    "id": "rDoOMd3uTqnZ"
   },
   "source": [
    "Print the first 10 table rows:"
   ]
  },
  {
   "cell_type": "code",
   "execution_count": 3,
   "metadata": {
    "id": "oWTVX3gW_Zct"
   },
   "outputs": [
    {
     "data": {
      "text/html": [
       "<div>\n",
       "<style scoped>\n",
       "    .dataframe tbody tr th:only-of-type {\n",
       "        vertical-align: middle;\n",
       "    }\n",
       "\n",
       "    .dataframe tbody tr th {\n",
       "        vertical-align: top;\n",
       "    }\n",
       "\n",
       "    .dataframe thead th {\n",
       "        text-align: right;\n",
       "    }\n",
       "</style>\n",
       "<table border=\"1\" class=\"dataframe\">\n",
       "  <thead>\n",
       "    <tr style=\"text-align: right;\">\n",
       "      <th></th>\n",
       "      <th>userID</th>\n",
       "      <th>Track</th>\n",
       "      <th>artist</th>\n",
       "      <th>genre</th>\n",
       "      <th>City</th>\n",
       "      <th>time</th>\n",
       "      <th>Day</th>\n",
       "    </tr>\n",
       "  </thead>\n",
       "  <tbody>\n",
       "    <tr>\n",
       "      <th>0</th>\n",
       "      <td>FFB692EC</td>\n",
       "      <td>Kamigata To Boots</td>\n",
       "      <td>The Mass Missile</td>\n",
       "      <td>rock</td>\n",
       "      <td>Shelbyville</td>\n",
       "      <td>20:28:33</td>\n",
       "      <td>Wednesday</td>\n",
       "    </tr>\n",
       "    <tr>\n",
       "      <th>1</th>\n",
       "      <td>55204538</td>\n",
       "      <td>Delayed Because of Accident</td>\n",
       "      <td>Andreas Rönnberg</td>\n",
       "      <td>rock</td>\n",
       "      <td>Springfield</td>\n",
       "      <td>14:07:09</td>\n",
       "      <td>Friday</td>\n",
       "    </tr>\n",
       "    <tr>\n",
       "      <th>2</th>\n",
       "      <td>20EC38</td>\n",
       "      <td>Funiculì funiculà</td>\n",
       "      <td>Mario Lanza</td>\n",
       "      <td>pop</td>\n",
       "      <td>Shelbyville</td>\n",
       "      <td>20:58:07</td>\n",
       "      <td>Wednesday</td>\n",
       "    </tr>\n",
       "    <tr>\n",
       "      <th>3</th>\n",
       "      <td>A3DD03C9</td>\n",
       "      <td>Dragons in the Sunset</td>\n",
       "      <td>Fire + Ice</td>\n",
       "      <td>folk</td>\n",
       "      <td>Shelbyville</td>\n",
       "      <td>08:37:09</td>\n",
       "      <td>Monday</td>\n",
       "    </tr>\n",
       "    <tr>\n",
       "      <th>4</th>\n",
       "      <td>E2DC1FAE</td>\n",
       "      <td>Soul People</td>\n",
       "      <td>Space Echo</td>\n",
       "      <td>dance</td>\n",
       "      <td>Springfield</td>\n",
       "      <td>08:34:34</td>\n",
       "      <td>Monday</td>\n",
       "    </tr>\n",
       "    <tr>\n",
       "      <th>5</th>\n",
       "      <td>842029A1</td>\n",
       "      <td>Chains</td>\n",
       "      <td>Obladaet</td>\n",
       "      <td>rusrap</td>\n",
       "      <td>Shelbyville</td>\n",
       "      <td>13:09:41</td>\n",
       "      <td>Friday</td>\n",
       "    </tr>\n",
       "    <tr>\n",
       "      <th>6</th>\n",
       "      <td>4CB90AA5</td>\n",
       "      <td>True</td>\n",
       "      <td>Roman Messer</td>\n",
       "      <td>dance</td>\n",
       "      <td>Springfield</td>\n",
       "      <td>13:00:07</td>\n",
       "      <td>Wednesday</td>\n",
       "    </tr>\n",
       "    <tr>\n",
       "      <th>7</th>\n",
       "      <td>F03E1C1F</td>\n",
       "      <td>Feeling This Way</td>\n",
       "      <td>Polina Griffith</td>\n",
       "      <td>dance</td>\n",
       "      <td>Springfield</td>\n",
       "      <td>20:47:49</td>\n",
       "      <td>Wednesday</td>\n",
       "    </tr>\n",
       "    <tr>\n",
       "      <th>8</th>\n",
       "      <td>8FA1D3BE</td>\n",
       "      <td>L’estate</td>\n",
       "      <td>Julia Dalia</td>\n",
       "      <td>ruspop</td>\n",
       "      <td>Springfield</td>\n",
       "      <td>09:17:40</td>\n",
       "      <td>Friday</td>\n",
       "    </tr>\n",
       "    <tr>\n",
       "      <th>9</th>\n",
       "      <td>E772D5C0</td>\n",
       "      <td>Pessimist</td>\n",
       "      <td>NaN</td>\n",
       "      <td>dance</td>\n",
       "      <td>Shelbyville</td>\n",
       "      <td>21:20:49</td>\n",
       "      <td>Wednesday</td>\n",
       "    </tr>\n",
       "  </tbody>\n",
       "</table>\n",
       "</div>"
      ],
      "text/plain": [
       "     userID                        Track            artist   genre  \\\n",
       "0  FFB692EC            Kamigata To Boots  The Mass Missile    rock   \n",
       "1  55204538  Delayed Because of Accident  Andreas Rönnberg    rock   \n",
       "2    20EC38            Funiculì funiculà       Mario Lanza     pop   \n",
       "3  A3DD03C9        Dragons in the Sunset        Fire + Ice    folk   \n",
       "4  E2DC1FAE                  Soul People        Space Echo   dance   \n",
       "5  842029A1                       Chains          Obladaet  rusrap   \n",
       "6  4CB90AA5                         True      Roman Messer   dance   \n",
       "7  F03E1C1F             Feeling This Way   Polina Griffith   dance   \n",
       "8  8FA1D3BE                     L’estate       Julia Dalia  ruspop   \n",
       "9  E772D5C0                    Pessimist               NaN   dance   \n",
       "\n",
       "        City        time        Day  \n",
       "0  Shelbyville  20:28:33  Wednesday  \n",
       "1  Springfield  14:07:09     Friday  \n",
       "2  Shelbyville  20:58:07  Wednesday  \n",
       "3  Shelbyville  08:37:09     Monday  \n",
       "4  Springfield  08:34:34     Monday  \n",
       "5  Shelbyville  13:09:41     Friday  \n",
       "6  Springfield  13:00:07  Wednesday  \n",
       "7  Springfield  20:47:49  Wednesday  \n",
       "8  Springfield  09:17:40     Friday  \n",
       "9  Shelbyville  21:20:49  Wednesday  "
      ]
     },
     "execution_count": 3,
     "metadata": {},
     "output_type": "execute_result"
    }
   ],
   "source": [
    "# obtaining the first 10 rows from the df table\n",
    "df.head(10)"
   ]
  },
  {
   "cell_type": "markdown",
   "metadata": {},
   "source": [
    "<div class=\"alert alert-success\">\n",
    "<b>Reviewer's comment v1:</b>\n",
    "    \n",
    "You can also use here other methods like `.sample(n)` or `.tail(n)` to show sample of data. \n",
    "    \n",
    "You can read about it here: https://pandas.pydata.org/docs/reference/api/pandas.DataFrame.sample.html\n",
    "    "
   ]
  },
  {
   "cell_type": "markdown",
   "metadata": {
    "id": "EO73Kwic_Zct"
   },
   "source": [
    "Obtaining the general information about the table with one command:"
   ]
  },
  {
   "cell_type": "code",
   "execution_count": 4,
   "metadata": {
    "id": "DSf2kIb-_Zct"
   },
   "outputs": [
    {
     "name": "stdout",
     "output_type": "stream",
     "text": [
      "<class 'pandas.core.frame.DataFrame'>\n",
      "RangeIndex: 65079 entries, 0 to 65078\n",
      "Data columns (total 7 columns):\n",
      " #   Column    Non-Null Count  Dtype \n",
      "---  ------    --------------  ----- \n",
      " 0     userID  65079 non-null  object\n",
      " 1   Track     63736 non-null  object\n",
      " 2   artist    57512 non-null  object\n",
      " 3   genre     63881 non-null  object\n",
      " 4     City    65079 non-null  object\n",
      " 5   time      65079 non-null  object\n",
      " 6   Day       65079 non-null  object\n",
      "dtypes: object(7)\n",
      "memory usage: 3.5+ MB\n"
     ]
    }
   ],
   "source": [
    "# obtaining general information about the data in df\n",
    "df.info()"
   ]
  },
  {
   "cell_type": "markdown",
   "metadata": {
    "id": "TaQ2Iwbr_Zct"
   },
   "source": [
    "The table contains seven columns. They all store the same data type: `object`.\n",
    "\n",
    "According to the documentation:\n",
    "- `'userID'` — user identifier\n",
    "- `'Track'` — track title\n",
    "- `'artist'` — artist's name\n",
    "- `'genre'`\n",
    "- `'City'` — user's city\n",
    "- `'time'` — the exact time the track was played\n",
    "- `'Day'` — day of the week\n",
    "\n",
    "We can see three issues with style in the column names:\n",
    "1. Some names are uppercase, some are lowercase.\n",
    "2. There are spaces in some names.\n",
    "3. Genre does not have a desciption and userID should be user_id.\n",
    "\n",
    "The number of column values is different. This means the data contains missing values.\n"
   ]
  },
  {
   "cell_type": "markdown",
   "metadata": {
    "id": "MCB6-dXG_Zct"
   },
   "source": [
    "### Conclusions <a id='data_review_conclusions'></a> \n",
    "\n",
    "Each row in the table stores data on a track that was played. Some columns describe the track itself: its title, artist and genre. The rest convey information about the user: the city they come from, the time they played the track. \n",
    "\n",
    "It's clear that the data is sufficient to test the hypotheses. However, there are missing values.\n",
    "\n",
    "To move forward, we need to preprocess the data."
   ]
  },
  {
   "cell_type": "markdown",
   "metadata": {
    "id": "3eL__vcwViOi"
   },
   "source": [
    "[Back to Contents](#back)"
   ]
  },
  {
   "cell_type": "markdown",
   "metadata": {},
   "source": [
    "<div class=\"alert alert-success\">\n",
    "<b>Reviewer's comment v1:</b>\n",
    "    \n",
    "Great data overview and correct conclusions. "
   ]
  },
  {
   "cell_type": "markdown",
   "metadata": {
    "id": "SjYF6Ub9_Zct"
   },
   "source": [
    "## Stage 2. Data preprocessing <a id='data_preprocessing'></a>\n",
    "Correct the formatting in the column headers and deal with the missing values. Then, check whether there are duplicates in the data."
   ]
  },
  {
   "cell_type": "markdown",
   "metadata": {
    "id": "dIaKXr29_Zct"
   },
   "source": [
    "### Header style <a id='header_style'></a>\n",
    "Print the column header:"
   ]
  },
  {
   "cell_type": "code",
   "execution_count": 5,
   "metadata": {
    "id": "oKOTdF_Q_Zct"
   },
   "outputs": [
    {
     "data": {
      "text/plain": [
       "Index(['  userID', 'Track', 'artist', 'genre', '  City  ', 'time', 'Day'], dtype='object')"
      ]
     },
     "execution_count": 5,
     "metadata": {},
     "output_type": "execute_result"
    }
   ],
   "source": [
    "# the list of column names in the df table\n",
    "df.columns"
   ]
  },
  {
   "cell_type": "markdown",
   "metadata": {
    "id": "zj5534cv_Zct"
   },
   "source": [
    "Change column names according to the rules of good style:\n",
    "* If the name has several words, use snake_case\n",
    "* All characters must be lowercase\n",
    "* Delete spaces"
   ]
  },
  {
   "cell_type": "code",
   "execution_count": 6,
   "metadata": {
    "id": "ISlFqs5y_Zct"
   },
   "outputs": [],
   "source": [
    "# renaming columns\n",
    "df = df.rename(columns={\n",
    "    '  userID': 'user_id',\n",
    "    'Track': 'track',\n",
    "    'artist': 'artist',\n",
    "    'genre': 'genre',\n",
    "    '  City  ': 'city',\n",
    "    'time': 'time',\n",
    "    'Day': 'day'\n",
    "})"
   ]
  },
  {
   "cell_type": "markdown",
   "metadata": {
    "id": "1dqbh00J_Zct"
   },
   "source": [
    "Check the result. Print the names of the columns once more:"
   ]
  },
  {
   "cell_type": "code",
   "execution_count": 7,
   "metadata": {
    "id": "d4NOAmTW_Zct"
   },
   "outputs": [
    {
     "data": {
      "text/plain": [
       "Index(['user_id', 'track', 'artist', 'genre', 'city', 'time', 'day'], dtype='object')"
      ]
     },
     "execution_count": 7,
     "metadata": {},
     "output_type": "execute_result"
    }
   ],
   "source": [
    "# checking result: the list of column names\n",
    "df.columns"
   ]
  },
  {
   "cell_type": "markdown",
   "metadata": {},
   "source": [
    "<div class=\"alert alert-success\">\n",
    "<b>Reviewer's comment v1:</b>\n",
    "    \n",
    "It is great that you correctly applied rename method. "
   ]
  },
  {
   "cell_type": "markdown",
   "metadata": {
    "id": "xYJk6ksJVpOl"
   },
   "source": [
    "[Back to Contents](#back)"
   ]
  },
  {
   "cell_type": "markdown",
   "metadata": {
    "id": "5ISfbcfY_Zct"
   },
   "source": [
    "### Missing values <a id='missing_values'></a>\n",
    "First, find the number of missing values in the table. To do so, use two `pandas` methods:"
   ]
  },
  {
   "cell_type": "code",
   "execution_count": 8,
   "metadata": {
    "id": "RskX29qr_Zct"
   },
   "outputs": [
    {
     "name": "stdout",
     "output_type": "stream",
     "text": [
      "user_id       0\n",
      "track      1343\n",
      "artist     7567\n",
      "genre      1198\n",
      "city          0\n",
      "time          0\n",
      "day           0\n",
      "dtype: int64\n"
     ]
    }
   ],
   "source": [
    "# calculating missing values\n",
    "print(df.isna().sum())"
   ]
  },
  {
   "cell_type": "markdown",
   "metadata": {},
   "source": [
    "<div class=\"alert alert-success\">\n",
    "<b>Reviewer's comment v1</b>\n",
    "    \n",
    "Great that you selected `isna()` method to find missing values! \n",
    "\n",
    "It is also sometimes helpful to check not only the total amount of missing values in each column but also look at the percentage of missing values. It helps to understand the overall impact. You can check percentage using, for example, this code:\n",
    "\n",
    "`df.isnull().sum()/len(df)`"
   ]
  },
  {
   "cell_type": "markdown",
   "metadata": {
    "id": "qubhgnlO_Zct"
   },
   "source": [
    "Not all missing values affect the research. For instance, the missing values in `track` and `artist` are not critical. You can simply replace them with clear markers.\n",
    "\n",
    "But missing values in `'genre'` can affect the comparison of music preferences in Springfield and Shelbyville. In real life, it would be useful to learn the reasons why the data is missing and try to make up for them. But we do not have that opportunity in this project. So you will have to:\n",
    "* Fill in these missing values with markers\n",
    "* Evaluate how much the missing values may affect your computations"
   ]
  },
  {
   "cell_type": "markdown",
   "metadata": {
    "id": "fSv2laPA_Zct"
   },
   "source": [
    "Replace the missing values in `'track'`, `'artist'`, and `'genre'` with the string `'unknown'`. To do this, create the `columns_to_replace` list, loop over it with `for`, and replace the missing values in each of the columns:"
   ]
  },
  {
   "cell_type": "code",
   "execution_count": 9,
   "metadata": {
    "id": "KplB5qWs_Zct"
   },
   "outputs": [],
   "source": [
    "# looping over column names and replacing missing values with 'unknown'\n",
    "columns_to_replace = ['track', 'artist', 'genre']\n",
    "for columns in columns_to_replace:\n",
    "    df[columns] = df[columns].fillna('unknown')\n",
    "    \n",
    "#df['track'] = df['track'].fillna('unknown')\n",
    "#df['artist'] = df['artist'].fillna('unknown')\n",
    "#df['genre'] = df['genre'].fillna('unknown')\n",
    "\n"
   ]
  },
  {
   "cell_type": "markdown",
   "metadata": {},
   "source": [
    "<div class=\"alert alert-danger\">\n",
    "<b>Reviewer's comment v1:</b>\n",
    "    \n",
    "Here you need to apply a `for loop` to fill missing values only in 3 columns and not the full dataframe.\n",
    "\n",
    "Can you please add that?\n",
    "\n",
    "<b>Programmer's Comment</b>\n",
    "That is a much more efficient and clean way of doing that step, I wouldn't have immediately thought of that. I think this is the way that you wanted it done. Please give me feedback if you want something a little different. This should fill in the missing values only in the track, artist, and genre columns. "
   ]
  },
  {
   "cell_type": "markdown",
   "metadata": {},
   "source": [
    "<div class=\"alert alert-success\">\n",
    "<b>Reviewer's comment v2:</b>\n",
    "    \n",
    "Everything is correct here!"
   ]
  },
  {
   "cell_type": "markdown",
   "metadata": {
    "id": "Ilsm-MZo_Zct"
   },
   "source": [
    "Make sure the table contains no more missing values. Count the missing values again."
   ]
  },
  {
   "cell_type": "code",
   "execution_count": 10,
   "metadata": {
    "id": "Tq4nYRX4_Zct"
   },
   "outputs": [
    {
     "name": "stdout",
     "output_type": "stream",
     "text": [
      "user_id    0\n",
      "track      0\n",
      "artist     0\n",
      "genre      0\n",
      "city       0\n",
      "time       0\n",
      "day        0\n",
      "dtype: int64\n"
     ]
    }
   ],
   "source": [
    "# counting missing values\n",
    "print(df.isna().sum())\n",
    "# Visually seeing the genre changed to unknown. \n",
    "#print(df[df['genre'] == 'unknown'])"
   ]
  },
  {
   "cell_type": "markdown",
   "metadata": {
    "id": "74ZIBmq9VrsK"
   },
   "source": [
    "[Back to Contents](#back)"
   ]
  },
  {
   "cell_type": "markdown",
   "metadata": {
    "id": "BWKRtBJ3_Zct"
   },
   "source": [
    "### Duplicates <a id='duplicates'></a>\n",
    "Find the number of obvious duplicates in the table using one command:"
   ]
  },
  {
   "cell_type": "code",
   "execution_count": 11,
   "metadata": {
    "id": "36eES_S0_Zct"
   },
   "outputs": [
    {
     "name": "stdout",
     "output_type": "stream",
     "text": [
      "3826\n"
     ]
    }
   ],
   "source": [
    "# counting clear duplicates\n",
    "print(df.duplicated().sum())\n",
    "# printing fist several rows of duplicates\n",
    "#duplicated = df[df.duplicated()]\n",
    "#print(duplicated.head(10))"
   ]
  },
  {
   "cell_type": "markdown",
   "metadata": {
    "id": "Ot25h6XR_Zct"
   },
   "source": [
    "Call the `pandas` method for getting rid of obvious duplicates:"
   ]
  },
  {
   "cell_type": "code",
   "execution_count": 12,
   "metadata": {
    "id": "exFHq6tt_Zct"
   },
   "outputs": [],
   "source": [
    "# removing obvious duplicates\n",
    "df = df.drop_duplicates().reset_index()\n",
    "#print(df.head())"
   ]
  },
  {
   "cell_type": "markdown",
   "metadata": {
    "id": "Im2YwBEG_Zct"
   },
   "source": [
    "Count obvious duplicates once more to make sure you have removed all of them:"
   ]
  },
  {
   "cell_type": "code",
   "execution_count": 13,
   "metadata": {
    "id": "-8PuNWQ0_Zct"
   },
   "outputs": [
    {
     "name": "stdout",
     "output_type": "stream",
     "text": [
      "0\n"
     ]
    }
   ],
   "source": [
    "# checking for duplicates\n",
    "print(df.duplicated().sum())"
   ]
  },
  {
   "cell_type": "markdown",
   "metadata": {},
   "source": [
    "<div class=\"alert alert-success\">\n",
    "<b>Reviewer's comment v1</b>\n",
    "    \n",
    "Everything is correct here! "
   ]
  },
  {
   "cell_type": "markdown",
   "metadata": {
    "id": "QlFBsxAr_Zct"
   },
   "source": [
    "Now get rid of implicit duplicates in the `genre` column. For example, the name of a genre can be written in different ways. Such errors will also affect the result."
   ]
  },
  {
   "cell_type": "markdown",
   "metadata": {
    "id": "eSjWwsOh_Zct"
   },
   "source": [
    "Print a list of unique genre names, sorted in alphabetical order. To do so:\n",
    "* Retrieve the intended DataFrame column \n",
    "* Apply a sorting method to it\n",
    "* For the sorted column, call the method that will return all unique column values"
   ]
  },
  {
   "cell_type": "code",
   "execution_count": 14,
   "metadata": {
    "id": "JIUcqzZN_Zct"
   },
   "outputs": [
    {
     "data": {
      "text/plain": [
       "array(['acid', 'acoustic', 'action', 'adult', 'africa', 'afrikaans',\n",
       "       'alternative', 'ambient', 'americana', 'animated', 'anime',\n",
       "       'arabesk', 'arabic', 'arena', 'argentinetango', 'art', 'audiobook',\n",
       "       'avantgarde', 'axé', 'baile', 'balkan', 'beats', 'bigroom',\n",
       "       'black', 'bluegrass', 'blues', 'bollywood', 'bossa', 'brazilian',\n",
       "       'breakbeat', 'breaks', 'broadway', 'cantautori', 'cantopop',\n",
       "       'canzone', 'caribbean', 'caucasian', 'celtic', 'chamber',\n",
       "       'children', 'chill', 'chinese', 'choral', 'christian', 'christmas',\n",
       "       'classical', 'classicmetal', 'club', 'colombian', 'comedy',\n",
       "       'conjazz', 'contemporary', 'country', 'cuban', 'dance',\n",
       "       'dancehall', 'dancepop', 'dark', 'death', 'deep', 'deutschrock',\n",
       "       'deutschspr', 'dirty', 'disco', 'dnb', 'documentary', 'downbeat',\n",
       "       'downtempo', 'drum', 'dub', 'dubstep', 'eastern', 'easy',\n",
       "       'electronic', 'electropop', 'emo', 'entehno', 'epicmetal',\n",
       "       'estrada', 'ethnic', 'eurofolk', 'european', 'experimental',\n",
       "       'extrememetal', 'fado', 'film', 'fitness', 'flamenco', 'folk',\n",
       "       'folklore', 'folkmetal', 'folkrock', 'folktronica', 'forró',\n",
       "       'frankreich', 'französisch', 'french', 'funk', 'future', 'gangsta',\n",
       "       'garage', 'german', 'ghazal', 'gitarre', 'glitch', 'gospel',\n",
       "       'gothic', 'grime', 'grunge', 'gypsy', 'handsup', \"hard'n'heavy\",\n",
       "       'hardcore', 'hardstyle', 'hardtechno', 'hip', 'hip-hop', 'hiphop',\n",
       "       'historisch', 'holiday', 'hop', 'horror', 'house', 'idm',\n",
       "       'independent', 'indian', 'indie', 'indipop', 'industrial',\n",
       "       'inspirational', 'instrumental', 'international', 'irish', 'jam',\n",
       "       'japanese', 'jazz', 'jewish', 'jpop', 'jungle', 'k-pop',\n",
       "       'karadeniz', 'karaoke', 'kayokyoku', 'korean', 'laiko', 'latin',\n",
       "       'latino', 'leftfield', 'local', 'lounge', 'loungeelectronic',\n",
       "       'lovers', 'malaysian', 'mandopop', 'marschmusik', 'meditative',\n",
       "       'mediterranean', 'melodic', 'metal', 'metalcore', 'mexican',\n",
       "       'middle', 'minimal', 'miscellaneous', 'modern', 'mood', 'mpb',\n",
       "       'muslim', 'native', 'neoklassik', 'neue', 'new', 'newage',\n",
       "       'newwave', 'nu', 'nujazz', 'numetal', 'oceania', 'old', 'opera',\n",
       "       'orchestral', 'other', 'piano', 'pop', 'popelectronic',\n",
       "       'popeurodance', 'post', 'posthardcore', 'postrock', 'power',\n",
       "       'progmetal', 'progressive', 'psychedelic', 'punjabi', 'punk',\n",
       "       'quebecois', 'ragga', 'ram', 'rancheras', 'rap', 'rave', 'reggae',\n",
       "       'reggaeton', 'regional', 'relax', 'religious', 'retro', 'rhythm',\n",
       "       'rnb', 'rnr', 'rock', 'rockabilly', 'romance', 'roots', 'ruspop',\n",
       "       'rusrap', 'rusrock', 'salsa', 'samba', 'schlager', 'self',\n",
       "       'sertanejo', 'shoegazing', 'showtunes', 'singer', 'ska', 'slow',\n",
       "       'smooth', 'soul', 'soulful', 'sound', 'soundtrack', 'southern',\n",
       "       'specialty', 'speech', 'spiritual', 'sport', 'stonerrock', 'surf',\n",
       "       'swing', 'synthpop', 'sängerportrait', 'tango', 'tanzorchester',\n",
       "       'taraftar', 'tech', 'techno', 'thrash', 'top', 'traditional',\n",
       "       'tradjazz', 'trance', 'tribal', 'trip', 'triphop', 'tropical',\n",
       "       'türk', 'türkçe', 'unknown', 'urban', 'uzbek', 'variété', 'vi',\n",
       "       'videogame', 'vocal', 'western', 'world', 'worldbeat', 'ïîï'],\n",
       "      dtype=object)"
      ]
     },
     "execution_count": 14,
     "metadata": {},
     "output_type": "execute_result"
    }
   ],
   "source": [
    "# viewing unique genre names\n",
    "df_genre = (df['genre'])\n",
    "sorted_genre = df_genre.sort_values()\n",
    "\n",
    "# sorting the unique genre column\n",
    "sorted_genre.unique()\n"
   ]
  },
  {
   "cell_type": "markdown",
   "metadata": {},
   "source": [
    "<div class=\"alert alert-success\">\n",
    "<b>Reviewer's comment v1</b>\n",
    "    \n",
    "Well done! You correctly applied a `.unique()` and `.sort_values()` methods. \n"
   ]
  },
  {
   "cell_type": "markdown",
   "metadata": {
    "id": "qej-Qmuo_Zct"
   },
   "source": [
    "Look through the list to find implicit duplicates of the genre `hiphop`. These could be names written incorrectly or alternative names of the same genre.\n",
    "\n",
    "You will see the following implicit duplicates:\n",
    "* `hip`\n",
    "* `hop`\n",
    "* `hip-hop`\n",
    "\n",
    "To get rid of them, declare the function `replace_wrong_genres()` with two parameters: \n",
    "* `wrong_genres=` — the list of duplicates\n",
    "* `correct_genre=` — the string with the correct value\n",
    "\n",
    "The function should correct the names in the `'genre'` column from the `df` table, i.e. replace each value from the `wrong_genres` list with the value in `correct_genre`."
   ]
  },
  {
   "cell_type": "code",
   "execution_count": 15,
   "metadata": {
    "id": "ErNDkmns_Zct"
   },
   "outputs": [],
   "source": [
    "# function for replacing implicit duplicates\n",
    "def replace_wrong_genres(wrong_genres, correct_genre):\n",
    "    for wrong_genre in wrong_genres:\n",
    "        df['genre'] = df['genre'].replace(wrong_genre, correct_genre)\n",
    "        return(wrong_genres, correct_genre)"
   ]
  },
  {
   "cell_type": "markdown",
   "metadata": {
    "id": "aDoBJxbA_Zct"
   },
   "source": [
    "Call `replace_wrong_genres()` and pass it arguments so that it clears implicit duplcates (`hip`, `hop`, and `hip-hop`) and replaces them with `hiphop`:"
   ]
  },
  {
   "cell_type": "code",
   "execution_count": 16,
   "metadata": {
    "id": "YN5i2hpmSo09"
   },
   "outputs": [
    {
     "data": {
      "text/plain": [
       "(['hip', 'hop', 'hip-hop'], 'hiphop')"
      ]
     },
     "execution_count": 16,
     "metadata": {},
     "output_type": "execute_result"
    }
   ],
   "source": [
    "# removing implicit duplicates\n",
    "duplicates = ['hip', 'hop', 'hip-hop']\n",
    "correct = 'hiphop'\n",
    "replace_wrong_genres(duplicates, correct)\n",
    "#print(df.head(50))\n"
   ]
  },
  {
   "cell_type": "markdown",
   "metadata": {},
   "source": [
    "<div class=\"alert alert-success\">\n",
    "<b>Reviewer's comment v1</b>\n",
    "    \n",
    "Your function works perfectly fine.\n",
    "    \n",
    "Btw you can also just pass values in your function:\n",
    "    \n",
    "    `replace_wrong_genres(['hip', 'hop', 'hip-hop'], 'hiphop')`\n",
    "    \n",
    "If you want to check the output of the function you can add the following line at the end.\n",
    "    \n",
    "    `return(wrong_genres, correct_genre)`"
   ]
  },
  {
   "cell_type": "markdown",
   "metadata": {
    "id": "zQKF16_RG15m"
   },
   "source": [
    "Make sure the duplicate names were removed. Print the list of unique values from the `'genre'` column:"
   ]
  },
  {
   "cell_type": "code",
   "execution_count": 17,
   "metadata": {
    "id": "wvixALnFG15m"
   },
   "outputs": [
    {
     "name": "stdout",
     "output_type": "stream",
     "text": [
      "['acid', 'acoustic', 'action', 'adult', 'africa', 'afrikaans', 'alternative', 'ambient', 'americana', 'animated', 'anime', 'arabesk', 'arabic', 'arena', 'argentinetango', 'art', 'audiobook', 'avantgarde', 'axé', 'baile', 'balkan', 'beats', 'bigroom', 'black', 'bluegrass', 'blues', 'bollywood', 'bossa', 'brazilian', 'breakbeat', 'breaks', 'broadway', 'cantautori', 'cantopop', 'canzone', 'caribbean', 'caucasian', 'celtic', 'chamber', 'children', 'chill', 'chinese', 'choral', 'christian', 'christmas', 'classical', 'classicmetal', 'club', 'colombian', 'comedy', 'conjazz', 'contemporary', 'country', 'cuban', 'dance', 'dancehall', 'dancepop', 'dark', 'death', 'deep', 'deutschrock', 'deutschspr', 'dirty', 'disco', 'dnb', 'documentary', 'downbeat', 'downtempo', 'drum', 'dub', 'dubstep', 'eastern', 'easy', 'electronic', 'electropop', 'emo', 'entehno', 'epicmetal', 'estrada', 'ethnic', 'eurofolk', 'european', 'experimental', 'extrememetal', 'fado', 'film', 'fitness', 'flamenco', 'folk', 'folklore', 'folkmetal', 'folkrock', 'folktronica', 'forró', 'frankreich', 'französisch', 'french', 'funk', 'future', 'gangsta', 'garage', 'german', 'ghazal', 'gitarre', 'glitch', 'gospel', 'gothic', 'grime', 'grunge', 'gypsy', 'handsup', \"hard'n'heavy\", 'hardcore', 'hardstyle', 'hardtechno', 'hip-hop', 'hiphop', 'historisch', 'holiday', 'hop', 'horror', 'house', 'idm', 'independent', 'indian', 'indie', 'indipop', 'industrial', 'inspirational', 'instrumental', 'international', 'irish', 'jam', 'japanese', 'jazz', 'jewish', 'jpop', 'jungle', 'k-pop', 'karadeniz', 'karaoke', 'kayokyoku', 'korean', 'laiko', 'latin', 'latino', 'leftfield', 'local', 'lounge', 'loungeelectronic', 'lovers', 'malaysian', 'mandopop', 'marschmusik', 'meditative', 'mediterranean', 'melodic', 'metal', 'metalcore', 'mexican', 'middle', 'minimal', 'miscellaneous', 'modern', 'mood', 'mpb', 'muslim', 'native', 'neoklassik', 'neue', 'new', 'newage', 'newwave', 'nu', 'nujazz', 'numetal', 'oceania', 'old', 'opera', 'orchestral', 'other', 'piano', 'pop', 'popelectronic', 'popeurodance', 'post', 'posthardcore', 'postrock', 'power', 'progmetal', 'progressive', 'psychedelic', 'punjabi', 'punk', 'quebecois', 'ragga', 'ram', 'rancheras', 'rap', 'rave', 'reggae', 'reggaeton', 'regional', 'relax', 'religious', 'retro', 'rhythm', 'rnb', 'rnr', 'rock', 'rockabilly', 'romance', 'roots', 'ruspop', 'rusrap', 'rusrock', 'salsa', 'samba', 'schlager', 'self', 'sertanejo', 'shoegazing', 'showtunes', 'singer', 'ska', 'slow', 'smooth', 'soul', 'soulful', 'sound', 'soundtrack', 'southern', 'specialty', 'speech', 'spiritual', 'sport', 'stonerrock', 'surf', 'swing', 'synthpop', 'sängerportrait', 'tango', 'tanzorchester', 'taraftar', 'tech', 'techno', 'thrash', 'top', 'traditional', 'tradjazz', 'trance', 'tribal', 'trip', 'triphop', 'tropical', 'türk', 'türkçe', 'unknown', 'urban', 'uzbek', 'variété', 'vi', 'videogame', 'vocal', 'western', 'world', 'worldbeat', 'ïîï']\n"
     ]
    }
   ],
   "source": [
    "# checking for implicit duplicates\n",
    "sorted_values = sorted(df['genre'].unique())\n",
    "print(sorted_values)"
   ]
  },
  {
   "cell_type": "markdown",
   "metadata": {
    "id": "ALgNbvF3VtPA"
   },
   "source": [
    "[Back to Contents](#back)"
   ]
  },
  {
   "cell_type": "markdown",
   "metadata": {
    "id": "jz6a9-7HQUDd"
   },
   "source": [
    "### Conclusions <a id='data_preprocessing_conclusions'></a>\n",
    "We detected three issues with the data:\n",
    "\n",
    "- Incorrect header styles\n",
    "- Missing values\n",
    "- Obvious and implicit duplicates\n",
    "\n",
    "The headers have been cleaned up to make processing the table simpler.\n",
    "\n",
    "All missing values have been replaced with `'unknown'`. But we still have to see whether the missing values in `'genre'` will affect our calculations.\n",
    "\n",
    "The absence of duplicates will make the results more precise and easier to understand.\n",
    "\n",
    "Now we can move on to testing hypotheses. "
   ]
  },
  {
   "cell_type": "markdown",
   "metadata": {
    "id": "eK1es74rVujj"
   },
   "source": [
    "[Back to Contents](#back)"
   ]
  },
  {
   "cell_type": "markdown",
   "metadata": {
    "id": "WttZHXH0SqKk"
   },
   "source": [
    "## Stage 3. Testing hypotheses <a id='hypotheses'></a>"
   ]
  },
  {
   "cell_type": "markdown",
   "metadata": {
    "id": "Im936VVi_Zcu"
   },
   "source": [
    "### Hypothesis 1: comparing user behavior in two cities <a id='activity'></a>"
   ]
  },
  {
   "cell_type": "markdown",
   "metadata": {
    "id": "nwt_MuaL_Zcu"
   },
   "source": [
    "According to the first hypothesis, users from Springfield and Shelbyville listen to music differently. Test this using the data on three days of the week: Monday, Wednesday, and Friday.\n",
    "\n",
    "* Divide the users into groups by city.\n",
    "* Compare how many tracks each group played on Monday, Wednesday, and Friday.\n"
   ]
  },
  {
   "cell_type": "markdown",
   "metadata": {
    "id": "8Dw_YMmT_Zcu"
   },
   "source": [
    "For the sake of practice, perform each computation separately. \n",
    "\n",
    "Evaluate user activity in each city. Group the data by city and find the number of songs played in each group.\n",
    "\n"
   ]
  },
  {
   "cell_type": "code",
   "execution_count": 18,
   "metadata": {
    "id": "0_Qs96oh_Zcu"
   },
   "outputs": [
    {
     "name": "stdout",
     "output_type": "stream",
     "text": [
      "city\n",
      "Shelbyville    18512\n",
      "Springfield    42741\n",
      "Name: track, dtype: int64\n"
     ]
    },
    {
     "data": {
      "text/plain": [
       "[None]"
      ]
     },
     "execution_count": 18,
     "metadata": {},
     "output_type": "execute_result"
    }
   ],
   "source": [
    "# Counting up the tracks played in each city\n",
    "tracks_per_city = df.groupby('city')['track'].count()\n",
    "[print(tracks_per_city)]"
   ]
  },
  {
   "cell_type": "markdown",
   "metadata": {},
   "source": [
    "<div class=\"alert alert-success\">\n",
    "<b>Reviewer's comment v1:</b>\n",
    "    \n",
    "Great that you applied groupby method here.\n",
    "    \n"
   ]
  },
  {
   "cell_type": "markdown",
   "metadata": {
    "id": "dzli3w8o_Zcu"
   },
   "source": [
    "Springfield has more tracks played than Shelbyville. But that does not imply that citizens of Springfield listen to music more often. This city is simply bigger, and there are more users.\n",
    "\n",
    "Now group the data by day of the week and find the number of tracks played on Monday, Wednesday, and Friday.\n"
   ]
  },
  {
   "cell_type": "code",
   "execution_count": 19,
   "metadata": {
    "id": "uZMKjiJz_Zcu",
    "scrolled": true
   },
   "outputs": [
    {
     "name": "stdout",
     "output_type": "stream",
     "text": [
      "day\n",
      "Friday       21840\n",
      "Monday       21354\n",
      "Wednesday    18059\n",
      "Name: track, dtype: int64\n",
      "\n",
      "day        city       \n",
      "Friday     Shelbyville     5895\n",
      "           Springfield    15945\n",
      "Monday     Shelbyville     5614\n",
      "           Springfield    15740\n",
      "Wednesday  Shelbyville     7003\n",
      "           Springfield    11056\n",
      "Name: track, dtype: int64\n"
     ]
    }
   ],
   "source": [
    "# Calculating tracks played on each of the three days\n",
    "df.columns\n",
    "tracks_per_day = df.groupby('day')['track'].count()\n",
    "\n",
    "# Calculating the number of tracks per day per city\n",
    "tracks_per_city_by_day = df.groupby(['day', 'city'])['track'].count()\n",
    "print(tracks_per_day)\n",
    "print()\n",
    "print(tracks_per_city_by_day)\n"
   ]
  },
  {
   "cell_type": "markdown",
   "metadata": {
    "id": "cC2tNrlL_Zcu"
   },
   "source": [
    "Wednesday is the quietest day overall. But if we consider the two cities separately, we might come to a different conclusion."
   ]
  },
  {
   "cell_type": "markdown",
   "metadata": {
    "id": "POzs8bGa_Zcu"
   },
   "source": [
    "You have seen how grouping by city or day works. Now write a function that will group by both.\n",
    "\n",
    "Create the `number_tracks()` function to calculate the number of songs played for a given day and city. It will require two parameters:\n",
    "* day of the week\n",
    "* name of the city\n",
    "\n",
    "In the function, use a variable to store the rows from the original table, where:\n",
    "  * `'day'` column value is equal to the `day` parameter\n",
    "  * `'city'` column value is equal to the `city` parameter\n",
    "\n",
    "Apply consecutive filtering with logical indexing.\n",
    "\n",
    "Then calculate the `'user_id'` column values in the resulting table. Store the result to a new variable. Return this variable from the function."
   ]
  },
  {
   "cell_type": "code",
   "execution_count": 20,
   "metadata": {
    "id": "Nz3GdQB1_Zcu"
   },
   "outputs": [],
   "source": [
    "# <creating the function number_tracks()>\n",
    "# We'll declare a function with two parameters: day=, city=.\n",
    "# Let the track_list variable store the df rows where\n",
    "# the value in the 'day' column is equal to the day= parameter and, at the same time, \n",
    "# the value in the 'city' column is equal to the city= parameter (apply consecutive filtering \n",
    "# with logical indexing).\n",
    "# Let the track_list_count variable store the number of 'user_id' column values in track_list\n",
    "# (found with the count() method).\n",
    "# Let the function return a number: the value of track_list_count.\n",
    "\n",
    "# The function counts tracked played for a certain city and day.b\n",
    "# It first retrieves the rows with the intended day from the table,\n",
    "# then filters out the rows with the intended city from the result,\n",
    "# then finds the number of 'user_id' values in the filtered table,\n",
    "# then returns that number.\n",
    "# To see what it returns, wrap the function call in print()."
   ]
  },
  {
   "cell_type": "markdown",
   "metadata": {},
   "source": [
    "<div class=\"alert alert-warning\">\n",
    "<b>Reviewer's comment v1:</b>\n",
    "    \n",
    "Everything is correct here, but only minor remark about how documenting functions.\n",
    "\n",
    "There is a common convention to use docstings to comments functions in python. It helps to keep code clean and embrace transparency and readability when multiple teams are working on the same complex code.\n",
    "\n",
    "You can read about this, for example, here: https://www.datacamp.com/community/tutorials/docstrings-python"
   ]
  },
  {
   "cell_type": "code",
   "execution_count": 21,
   "metadata": {},
   "outputs": [],
   "source": [
    "# number_tracks function with the day of the week and the name of the city\n",
    "def number_tracks(day, city):\n",
    "    '''\n",
    "    Returns the Number of Tracks per Day in each city. Function groups day of the week and city tracks are played in. \n",
    "    \n",
    "    Parameters:\n",
    "        day (str): The string entered for which day you want filtered out.\n",
    "        city (str): The string entered for which city you want filtered out.\n",
    "    \n",
    "    \n",
    "    Returns:\n",
    "        track_list_count(numpy.int64): Shows the number of tracks listened to in each city based on the day.\n",
    "    '''\n",
    "    track_list = df[(df['day'] == day) & (df['city'] == city)]\n",
    "    track_list_count = track_list.user_id.count()\n",
    "    return track_list_count\n",
    "\n",
    "    \n",
    "    "
   ]
  },
  {
   "cell_type": "markdown",
   "metadata": {
    "id": "ytf7xFrFJQ2r"
   },
   "source": [
    "Call `number_tracks()` six times, changing the parameter values, so that you retrieve the data on both cities for each of the three days."
   ]
  },
  {
   "cell_type": "code",
   "execution_count": 22,
   "metadata": {
    "id": "rJcRATNQ_Zcu"
   },
   "outputs": [
    {
     "name": "stdout",
     "output_type": "stream",
     "text": [
      "15740\n"
     ]
    }
   ],
   "source": [
    "# the number of songs played in Springfield on Monday\n",
    "print(number_tracks('Monday', 'Springfield'))"
   ]
  },
  {
   "cell_type": "code",
   "execution_count": 23,
   "metadata": {
    "id": "hq_ncZ5T_Zcu"
   },
   "outputs": [
    {
     "name": "stdout",
     "output_type": "stream",
     "text": [
      "5614\n"
     ]
    }
   ],
   "source": [
    "# the number of songs played in Shelbyville on Monday\n",
    "print(number_tracks('Monday', 'Shelbyville'))"
   ]
  },
  {
   "cell_type": "code",
   "execution_count": 24,
   "metadata": {
    "id": "_NTy2VPU_Zcu"
   },
   "outputs": [
    {
     "name": "stdout",
     "output_type": "stream",
     "text": [
      "11056\n"
     ]
    }
   ],
   "source": [
    "# the number of songs played in Springfield on Wednesday\n",
    "print(number_tracks('Wednesday', 'Springfield'))"
   ]
  },
  {
   "cell_type": "code",
   "execution_count": 25,
   "metadata": {
    "id": "j2y3TAwo_Zcu"
   },
   "outputs": [
    {
     "name": "stdout",
     "output_type": "stream",
     "text": [
      "7003\n"
     ]
    }
   ],
   "source": [
    "# the number of songs played in Shelbyville on Wednesday\n",
    "print(number_tracks('Wednesday', 'Shelbyville'))"
   ]
  },
  {
   "cell_type": "code",
   "execution_count": 26,
   "metadata": {
    "id": "vYDw5u_K_Zcu"
   },
   "outputs": [
    {
     "name": "stdout",
     "output_type": "stream",
     "text": [
      "15945\n"
     ]
    }
   ],
   "source": [
    "# the number of songs played in Springfield on Friday\n",
    "print(number_tracks('Friday', 'Springfield'))"
   ]
  },
  {
   "cell_type": "code",
   "execution_count": 27,
   "metadata": {
    "id": "8_yzFtW3_Zcu"
   },
   "outputs": [
    {
     "name": "stdout",
     "output_type": "stream",
     "text": [
      "5895\n"
     ]
    }
   ],
   "source": [
    "# the number of songs played in Shelbyville on Friday\n",
    "print(number_tracks('Friday', 'Shelbyville'))"
   ]
  },
  {
   "cell_type": "markdown",
   "metadata": {
    "id": "7QXffbO-_Zcu"
   },
   "source": [
    "Use `pd.DataFrame` to create a table, where\n",
    "* Column names are: `['city', 'monday', 'wednesday', 'friday']`\n",
    "* The data is the results you got from `number_tracks()`"
   ]
  },
  {
   "cell_type": "code",
   "execution_count": 28,
   "metadata": {
    "id": "APAcLpOr_Zcu"
   },
   "outputs": [
    {
     "data": {
      "text/html": [
       "<div>\n",
       "<style scoped>\n",
       "    .dataframe tbody tr th:only-of-type {\n",
       "        vertical-align: middle;\n",
       "    }\n",
       "\n",
       "    .dataframe tbody tr th {\n",
       "        vertical-align: top;\n",
       "    }\n",
       "\n",
       "    .dataframe thead th {\n",
       "        text-align: right;\n",
       "    }\n",
       "</style>\n",
       "<table border=\"1\" class=\"dataframe\">\n",
       "  <thead>\n",
       "    <tr style=\"text-align: right;\">\n",
       "      <th></th>\n",
       "      <th>city</th>\n",
       "      <th>monday</th>\n",
       "      <th>wednesday</th>\n",
       "      <th>friday</th>\n",
       "    </tr>\n",
       "  </thead>\n",
       "  <tbody>\n",
       "    <tr>\n",
       "      <th>0</th>\n",
       "      <td>Springfield</td>\n",
       "      <td>15740</td>\n",
       "      <td>11056</td>\n",
       "      <td>15945</td>\n",
       "    </tr>\n",
       "    <tr>\n",
       "      <th>1</th>\n",
       "      <td>Shelbyville</td>\n",
       "      <td>5614</td>\n",
       "      <td>7003</td>\n",
       "      <td>5895</td>\n",
       "    </tr>\n",
       "  </tbody>\n",
       "</table>\n",
       "</div>"
      ],
      "text/plain": [
       "          city  monday  wednesday  friday\n",
       "0  Springfield   15740      11056   15945\n",
       "1  Shelbyville    5614       7003    5895"
      ]
     },
     "execution_count": 28,
     "metadata": {},
     "output_type": "execute_result"
    }
   ],
   "source": [
    "# table with results\n",
    "#springfield_data = ['Springfield', 15740, 11056, 15945]\n",
    "#shelbyville_data = [['Shelbyville', 5614, 7003, 5895]]\n",
    "\n",
    "data = {'city': ['Springfield', 'Shelbyville'],\n",
    "        'monday': [15740, 5614],\n",
    "        'wednesday': [11056, 7003],\n",
    "        'friday': [15945, 5895]}\n",
    "\n",
    "city_track_data = pd.DataFrame(data)\n",
    "city_track_data"
   ]
  },
  {
   "cell_type": "markdown",
   "metadata": {
    "id": "-EgPIHYu_Zcu"
   },
   "source": [
    "**Conclusions**\n",
    "\n",
    "The data reveals differences in user behavior:\n",
    "\n",
    "- In Springfield, the number of songs played peaks on Mondays and Fridays, while on Wednesday there is a decrease in activity.\n",
    "- In Shelbyville, on the contrary, users listen to music more on Wednesday. User activity on Monday and Friday is smaller.\n",
    "\n",
    "So the first hypothesis seems to be correct."
   ]
  },
  {
   "cell_type": "markdown",
   "metadata": {},
   "source": [
    "<div class=\"alert alert-success\">\n",
    "<b>Reviewer's comment v1:</b>\n",
    "    \n",
    "Also everything is correct here! "
   ]
  },
  {
   "cell_type": "markdown",
   "metadata": {
    "id": "p7nFQajCVw5B"
   },
   "source": [
    "[Back to Contents](#back)"
   ]
  },
  {
   "cell_type": "markdown",
   "metadata": {
    "id": "atZAxtq4_Zcu"
   },
   "source": [
    "### Hypothesis 2: music at the beginning and end of the week <a id='week'></a>"
   ]
  },
  {
   "cell_type": "markdown",
   "metadata": {
    "id": "eXrQqXFH_Zcu"
   },
   "source": [
    "According to the second hypothesis, on Monday morning and Friday night, citizens of Springfield listen to genres that differ from ones users from Shelbyville enjoy."
   ]
  },
  {
   "cell_type": "markdown",
   "metadata": {
    "id": "S8UcW6Hw_Zcu"
   },
   "source": [
    "Get tables (make sure that the name of your combined table matches the DataFrame given in the two code blocks below):\n",
    "* For Springfield — `spr_general`\n",
    "* For Shelbyville — `shel_general`"
   ]
  },
  {
   "cell_type": "code",
   "execution_count": 29,
   "metadata": {
    "id": "qeaFfM_P_Zcu",
    "pycharm": {
     "is_executing": true
    }
   },
   "outputs": [
    {
     "data": {
      "text/html": [
       "<div>\n",
       "<style scoped>\n",
       "    .dataframe tbody tr th:only-of-type {\n",
       "        vertical-align: middle;\n",
       "    }\n",
       "\n",
       "    .dataframe tbody tr th {\n",
       "        vertical-align: top;\n",
       "    }\n",
       "\n",
       "    .dataframe thead th {\n",
       "        text-align: right;\n",
       "    }\n",
       "</style>\n",
       "<table border=\"1\" class=\"dataframe\">\n",
       "  <thead>\n",
       "    <tr style=\"text-align: right;\">\n",
       "      <th></th>\n",
       "      <th>index</th>\n",
       "      <th>user_id</th>\n",
       "      <th>track</th>\n",
       "      <th>artist</th>\n",
       "      <th>genre</th>\n",
       "      <th>city</th>\n",
       "      <th>time</th>\n",
       "      <th>day</th>\n",
       "    </tr>\n",
       "  </thead>\n",
       "  <tbody>\n",
       "    <tr>\n",
       "      <th>1</th>\n",
       "      <td>1</td>\n",
       "      <td>55204538</td>\n",
       "      <td>Delayed Because of Accident</td>\n",
       "      <td>Andreas Rönnberg</td>\n",
       "      <td>rock</td>\n",
       "      <td>Springfield</td>\n",
       "      <td>14:07:09</td>\n",
       "      <td>Friday</td>\n",
       "    </tr>\n",
       "    <tr>\n",
       "      <th>4</th>\n",
       "      <td>4</td>\n",
       "      <td>E2DC1FAE</td>\n",
       "      <td>Soul People</td>\n",
       "      <td>Space Echo</td>\n",
       "      <td>dance</td>\n",
       "      <td>Springfield</td>\n",
       "      <td>08:34:34</td>\n",
       "      <td>Monday</td>\n",
       "    </tr>\n",
       "    <tr>\n",
       "      <th>6</th>\n",
       "      <td>6</td>\n",
       "      <td>4CB90AA5</td>\n",
       "      <td>True</td>\n",
       "      <td>Roman Messer</td>\n",
       "      <td>dance</td>\n",
       "      <td>Springfield</td>\n",
       "      <td>13:00:07</td>\n",
       "      <td>Wednesday</td>\n",
       "    </tr>\n",
       "    <tr>\n",
       "      <th>7</th>\n",
       "      <td>7</td>\n",
       "      <td>F03E1C1F</td>\n",
       "      <td>Feeling This Way</td>\n",
       "      <td>Polina Griffith</td>\n",
       "      <td>dance</td>\n",
       "      <td>Springfield</td>\n",
       "      <td>20:47:49</td>\n",
       "      <td>Wednesday</td>\n",
       "    </tr>\n",
       "    <tr>\n",
       "      <th>8</th>\n",
       "      <td>8</td>\n",
       "      <td>8FA1D3BE</td>\n",
       "      <td>L’estate</td>\n",
       "      <td>Julia Dalia</td>\n",
       "      <td>ruspop</td>\n",
       "      <td>Springfield</td>\n",
       "      <td>09:17:40</td>\n",
       "      <td>Friday</td>\n",
       "    </tr>\n",
       "    <tr>\n",
       "      <th>...</th>\n",
       "      <td>...</td>\n",
       "      <td>...</td>\n",
       "      <td>...</td>\n",
       "      <td>...</td>\n",
       "      <td>...</td>\n",
       "      <td>...</td>\n",
       "      <td>...</td>\n",
       "      <td>...</td>\n",
       "    </tr>\n",
       "    <tr>\n",
       "      <th>61247</th>\n",
       "      <td>65073</td>\n",
       "      <td>83A474E7</td>\n",
       "      <td>I Worship Only What You Bleed</td>\n",
       "      <td>The Black Dahlia Murder</td>\n",
       "      <td>extrememetal</td>\n",
       "      <td>Springfield</td>\n",
       "      <td>21:07:12</td>\n",
       "      <td>Monday</td>\n",
       "    </tr>\n",
       "    <tr>\n",
       "      <th>61248</th>\n",
       "      <td>65074</td>\n",
       "      <td>729CBB09</td>\n",
       "      <td>My Name</td>\n",
       "      <td>McLean</td>\n",
       "      <td>rnb</td>\n",
       "      <td>Springfield</td>\n",
       "      <td>13:32:28</td>\n",
       "      <td>Wednesday</td>\n",
       "    </tr>\n",
       "    <tr>\n",
       "      <th>61250</th>\n",
       "      <td>65076</td>\n",
       "      <td>C5E3A0D5</td>\n",
       "      <td>Jalopiina</td>\n",
       "      <td>unknown</td>\n",
       "      <td>industrial</td>\n",
       "      <td>Springfield</td>\n",
       "      <td>20:09:26</td>\n",
       "      <td>Friday</td>\n",
       "    </tr>\n",
       "    <tr>\n",
       "      <th>61251</th>\n",
       "      <td>65077</td>\n",
       "      <td>321D0506</td>\n",
       "      <td>Freight Train</td>\n",
       "      <td>Chas McDevitt</td>\n",
       "      <td>rock</td>\n",
       "      <td>Springfield</td>\n",
       "      <td>21:43:59</td>\n",
       "      <td>Friday</td>\n",
       "    </tr>\n",
       "    <tr>\n",
       "      <th>61252</th>\n",
       "      <td>65078</td>\n",
       "      <td>3A64EF84</td>\n",
       "      <td>Tell Me Sweet Little Lies</td>\n",
       "      <td>Monica Lopez</td>\n",
       "      <td>country</td>\n",
       "      <td>Springfield</td>\n",
       "      <td>21:59:46</td>\n",
       "      <td>Friday</td>\n",
       "    </tr>\n",
       "  </tbody>\n",
       "</table>\n",
       "<p>42741 rows × 8 columns</p>\n",
       "</div>"
      ],
      "text/plain": [
       "       index   user_id                          track  \\\n",
       "1          1  55204538    Delayed Because of Accident   \n",
       "4          4  E2DC1FAE                    Soul People   \n",
       "6          6  4CB90AA5                           True   \n",
       "7          7  F03E1C1F               Feeling This Way   \n",
       "8          8  8FA1D3BE                       L’estate   \n",
       "...      ...       ...                            ...   \n",
       "61247  65073  83A474E7  I Worship Only What You Bleed   \n",
       "61248  65074  729CBB09                        My Name   \n",
       "61250  65076  C5E3A0D5                      Jalopiina   \n",
       "61251  65077  321D0506                  Freight Train   \n",
       "61252  65078  3A64EF84      Tell Me Sweet Little Lies   \n",
       "\n",
       "                        artist         genre         city      time        day  \n",
       "1             Andreas Rönnberg          rock  Springfield  14:07:09     Friday  \n",
       "4                   Space Echo         dance  Springfield  08:34:34     Monday  \n",
       "6                 Roman Messer         dance  Springfield  13:00:07  Wednesday  \n",
       "7              Polina Griffith         dance  Springfield  20:47:49  Wednesday  \n",
       "8                  Julia Dalia        ruspop  Springfield  09:17:40     Friday  \n",
       "...                        ...           ...          ...       ...        ...  \n",
       "61247  The Black Dahlia Murder  extrememetal  Springfield  21:07:12     Monday  \n",
       "61248                   McLean           rnb  Springfield  13:32:28  Wednesday  \n",
       "61250                  unknown    industrial  Springfield  20:09:26     Friday  \n",
       "61251            Chas McDevitt          rock  Springfield  21:43:59     Friday  \n",
       "61252             Monica Lopez       country  Springfield  21:59:46     Friday  \n",
       "\n",
       "[42741 rows x 8 columns]"
      ]
     },
     "execution_count": 29,
     "metadata": {},
     "output_type": "execute_result"
    }
   ],
   "source": [
    "# create the spr_general table from the df rows, \n",
    "# where the value in the 'city' column is 'Springfield'\n",
    "spr_general = df[(df['city'] == 'Springfield')]\n",
    "spr_general\n"
   ]
  },
  {
   "cell_type": "markdown",
   "metadata": {},
   "source": [
    "<div class=\"alert alert-success\">\n",
    "<b>Reviewer's comment v1:</b>\n",
    "    \n",
    "You correctly used logical indexing to filter data by city! \n",
    "\n",
    "Additionally there are other methods that could be helpful to filter your data, for example:`query()`.\n",
    "\n",
    "    \n",
    "`spr_general = df.query('city == \"Springfield\"')`\n",
    "    \n",
    "You can read about them additionally here: \n",
    "https://towardsdatascience.com/10-examples-that-will-make-you-use-pandas-query-function-more-often-a8fb3e9361cb\n",
    "https://towardsdatascience.com/how-to-use-loc-and-iloc-for-selecting-data-in-pandas-bd09cb4c3d79    "
   ]
  },
  {
   "cell_type": "code",
   "execution_count": 30,
   "metadata": {
    "id": "ORaVRKto_Zcu"
   },
   "outputs": [
    {
     "data": {
      "text/html": [
       "<div>\n",
       "<style scoped>\n",
       "    .dataframe tbody tr th:only-of-type {\n",
       "        vertical-align: middle;\n",
       "    }\n",
       "\n",
       "    .dataframe tbody tr th {\n",
       "        vertical-align: top;\n",
       "    }\n",
       "\n",
       "    .dataframe thead th {\n",
       "        text-align: right;\n",
       "    }\n",
       "</style>\n",
       "<table border=\"1\" class=\"dataframe\">\n",
       "  <thead>\n",
       "    <tr style=\"text-align: right;\">\n",
       "      <th></th>\n",
       "      <th>index</th>\n",
       "      <th>user_id</th>\n",
       "      <th>track</th>\n",
       "      <th>artist</th>\n",
       "      <th>genre</th>\n",
       "      <th>city</th>\n",
       "      <th>time</th>\n",
       "      <th>day</th>\n",
       "    </tr>\n",
       "  </thead>\n",
       "  <tbody>\n",
       "    <tr>\n",
       "      <th>0</th>\n",
       "      <td>0</td>\n",
       "      <td>FFB692EC</td>\n",
       "      <td>Kamigata To Boots</td>\n",
       "      <td>The Mass Missile</td>\n",
       "      <td>rock</td>\n",
       "      <td>Shelbyville</td>\n",
       "      <td>20:28:33</td>\n",
       "      <td>Wednesday</td>\n",
       "    </tr>\n",
       "    <tr>\n",
       "      <th>2</th>\n",
       "      <td>2</td>\n",
       "      <td>20EC38</td>\n",
       "      <td>Funiculì funiculà</td>\n",
       "      <td>Mario Lanza</td>\n",
       "      <td>pop</td>\n",
       "      <td>Shelbyville</td>\n",
       "      <td>20:58:07</td>\n",
       "      <td>Wednesday</td>\n",
       "    </tr>\n",
       "    <tr>\n",
       "      <th>3</th>\n",
       "      <td>3</td>\n",
       "      <td>A3DD03C9</td>\n",
       "      <td>Dragons in the Sunset</td>\n",
       "      <td>Fire + Ice</td>\n",
       "      <td>folk</td>\n",
       "      <td>Shelbyville</td>\n",
       "      <td>08:37:09</td>\n",
       "      <td>Monday</td>\n",
       "    </tr>\n",
       "    <tr>\n",
       "      <th>5</th>\n",
       "      <td>5</td>\n",
       "      <td>842029A1</td>\n",
       "      <td>Chains</td>\n",
       "      <td>Obladaet</td>\n",
       "      <td>rusrap</td>\n",
       "      <td>Shelbyville</td>\n",
       "      <td>13:09:41</td>\n",
       "      <td>Friday</td>\n",
       "    </tr>\n",
       "    <tr>\n",
       "      <th>9</th>\n",
       "      <td>9</td>\n",
       "      <td>E772D5C0</td>\n",
       "      <td>Pessimist</td>\n",
       "      <td>unknown</td>\n",
       "      <td>dance</td>\n",
       "      <td>Shelbyville</td>\n",
       "      <td>21:20:49</td>\n",
       "      <td>Wednesday</td>\n",
       "    </tr>\n",
       "    <tr>\n",
       "      <th>...</th>\n",
       "      <td>...</td>\n",
       "      <td>...</td>\n",
       "      <td>...</td>\n",
       "      <td>...</td>\n",
       "      <td>...</td>\n",
       "      <td>...</td>\n",
       "      <td>...</td>\n",
       "      <td>...</td>\n",
       "    </tr>\n",
       "    <tr>\n",
       "      <th>61239</th>\n",
       "      <td>65063</td>\n",
       "      <td>D94F810B</td>\n",
       "      <td>Theme from the Walking Dead</td>\n",
       "      <td>Proyecto Halloween</td>\n",
       "      <td>film</td>\n",
       "      <td>Shelbyville</td>\n",
       "      <td>21:14:40</td>\n",
       "      <td>Monday</td>\n",
       "    </tr>\n",
       "    <tr>\n",
       "      <th>61240</th>\n",
       "      <td>65064</td>\n",
       "      <td>BC8EC5CF</td>\n",
       "      <td>Red Lips: Gta (Rover Rework)</td>\n",
       "      <td>Rover</td>\n",
       "      <td>electronic</td>\n",
       "      <td>Shelbyville</td>\n",
       "      <td>21:06:50</td>\n",
       "      <td>Monday</td>\n",
       "    </tr>\n",
       "    <tr>\n",
       "      <th>61241</th>\n",
       "      <td>65065</td>\n",
       "      <td>29E04611</td>\n",
       "      <td>Bre Petrunko</td>\n",
       "      <td>Perunika Trio</td>\n",
       "      <td>world</td>\n",
       "      <td>Shelbyville</td>\n",
       "      <td>13:56:00</td>\n",
       "      <td>Monday</td>\n",
       "    </tr>\n",
       "    <tr>\n",
       "      <th>61242</th>\n",
       "      <td>65066</td>\n",
       "      <td>1B91C621</td>\n",
       "      <td>(Hello) Cloud Mountain</td>\n",
       "      <td>sleepmakeswaves</td>\n",
       "      <td>postrock</td>\n",
       "      <td>Shelbyville</td>\n",
       "      <td>09:22:13</td>\n",
       "      <td>Monday</td>\n",
       "    </tr>\n",
       "    <tr>\n",
       "      <th>61249</th>\n",
       "      <td>65075</td>\n",
       "      <td>D08D4A55</td>\n",
       "      <td>Maybe One Day (feat. Black Spade)</td>\n",
       "      <td>Blu &amp; Exile</td>\n",
       "      <td>hiphop</td>\n",
       "      <td>Shelbyville</td>\n",
       "      <td>10:00:00</td>\n",
       "      <td>Monday</td>\n",
       "    </tr>\n",
       "  </tbody>\n",
       "</table>\n",
       "<p>18512 rows × 8 columns</p>\n",
       "</div>"
      ],
      "text/plain": [
       "       index   user_id                              track              artist  \\\n",
       "0          0  FFB692EC                  Kamigata To Boots    The Mass Missile   \n",
       "2          2    20EC38                  Funiculì funiculà         Mario Lanza   \n",
       "3          3  A3DD03C9              Dragons in the Sunset          Fire + Ice   \n",
       "5          5  842029A1                             Chains            Obladaet   \n",
       "9          9  E772D5C0                          Pessimist             unknown   \n",
       "...      ...       ...                                ...                 ...   \n",
       "61239  65063  D94F810B        Theme from the Walking Dead  Proyecto Halloween   \n",
       "61240  65064  BC8EC5CF       Red Lips: Gta (Rover Rework)               Rover   \n",
       "61241  65065  29E04611                       Bre Petrunko       Perunika Trio   \n",
       "61242  65066  1B91C621             (Hello) Cloud Mountain     sleepmakeswaves   \n",
       "61249  65075  D08D4A55  Maybe One Day (feat. Black Spade)         Blu & Exile   \n",
       "\n",
       "            genre         city      time        day  \n",
       "0            rock  Shelbyville  20:28:33  Wednesday  \n",
       "2             pop  Shelbyville  20:58:07  Wednesday  \n",
       "3            folk  Shelbyville  08:37:09     Monday  \n",
       "5          rusrap  Shelbyville  13:09:41     Friday  \n",
       "9           dance  Shelbyville  21:20:49  Wednesday  \n",
       "...           ...          ...       ...        ...  \n",
       "61239        film  Shelbyville  21:14:40     Monday  \n",
       "61240  electronic  Shelbyville  21:06:50     Monday  \n",
       "61241       world  Shelbyville  13:56:00     Monday  \n",
       "61242    postrock  Shelbyville  09:22:13     Monday  \n",
       "61249      hiphop  Shelbyville  10:00:00     Monday  \n",
       "\n",
       "[18512 rows x 8 columns]"
      ]
     },
     "execution_count": 30,
     "metadata": {},
     "output_type": "execute_result"
    }
   ],
   "source": [
    "# create the shel_general from the df rows,\n",
    "# where the value in the 'city' column is 'Shelbyville'\n",
    "shel_general = df[(df.city == 'Shelbyville')]\n",
    "shel_general"
   ]
  },
  {
   "cell_type": "markdown",
   "metadata": {
    "id": "MEJV-CX2_Zcu"
   },
   "source": [
    "Write the `genre_weekday()` function with four parameters:\n",
    "* A table for data (`df`)\n",
    "* The day of the week (`day`)\n",
    "* The first timestamp, in 'hh:mm' format (`time1`)\n",
    "* The last timestamp, in 'hh:mm' format (`time2`)\n",
    "\n",
    "The function should return info on the 15 most popular genres on a given day within the period between the two timestamps."
   ]
  },
  {
   "cell_type": "code",
   "execution_count": 31,
   "metadata": {
    "id": "laJT9BYl_Zcu"
   },
   "outputs": [
    {
     "name": "stdout",
     "output_type": "stream",
     "text": [
      "Series([], Name: user_id, dtype: int64)\n"
     ]
    }
   ],
   "source": [
    "# 1) Let the genre_df variable store the rows that meet several conditions:\n",
    "#    - the value in the 'day' column is equal to the value of the day= argument\n",
    "#    - the value in the 'time' column is greater than the value of the time1= argument\n",
    "#    - the value in the 'time' column is smaller than the value of the time2= argument\n",
    "#    Use consecutive filtering with logical indexing.\n",
    "\n",
    "# 2) Group genre_df by the 'genre' column, take one of its columns, \n",
    "#    and use the count() method to find the number of entries for each of \n",
    "#    the represented genres; store the resulting Series to the\n",
    "#    genre_df_count variable\n",
    "\n",
    "# 3) Sort genre_df_count in descending order of frequency and store the result\n",
    "#    to the genre_df_sorted variable\n",
    "\n",
    "# 4) Return a Series object with the first 15 genre_df_sorted value - the 15 most\n",
    "#    popular genres (on a given day, within a certain timeframe)\n",
    "\n",
    "# Write your function here\n",
    "def genre_weekday(df, day, time1, time2):\n",
    "    # consecutive filtering\n",
    "    # Create the variable genre_df which will store only those df rows where the day is equal to day=\n",
    "    #genre_df = df[(df['day'] == day)]\n",
    "    \n",
    "    # filter again so that genre_df will store only those rows where the time is smaller than time2=\n",
    "    #genre_df = df[(df['day'] == day) & (df['time'] < time2)]\n",
    "\n",
    "    # filter once more so that genre_df will store only rows where the time is greater than time1=\n",
    "    genre_df = df[(df['day'] == day) & (df['time'] > time1) & (df['time'] < time2)]\n",
    "\n",
    "    # group the filtered DataFrame by the column with the names of genres, take the genre column, and find the number of rows for each genre with the count() method\n",
    "    genre_df_count = genre_df.groupby('genre')['user_id'].count()\n",
    "\n",
    "    # sort the result in descending order (so that the most popular genres come first in the Series object)\n",
    "    genre_df_sorted = genre_df_count.sort_values(ascending = False)\n",
    "\n",
    "    # we will return the Series object storing the 15 most popular genres on a given day in a given timeframe\n",
    "    return genre_df_sorted[:15]\n",
    "\n",
    "print(genre_weekday(spr_general, 'Monday', '7:00:00', '11:00:00'))"
   ]
  },
  {
   "cell_type": "markdown",
   "metadata": {
    "id": "la2s2_PF_Zcu"
   },
   "source": [
    "Compare the results of the `genre_weekday()` function for Springfield and Shelbyville on Monday morning (from 7AM to 11AM) and on Friday evening (from 17:00 to 23:00):"
   ]
  },
  {
   "cell_type": "code",
   "execution_count": 32,
   "metadata": {
    "id": "yz7itPUQ_Zcu"
   },
   "outputs": [
    {
     "name": "stdout",
     "output_type": "stream",
     "text": [
      "genre\n",
      "pop            781\n",
      "dance          549\n",
      "electronic     480\n",
      "rock           474\n",
      "hiphop         285\n",
      "ruspop         186\n",
      "world          181\n",
      "rusrap         175\n",
      "alternative    164\n",
      "unknown        161\n",
      "classical      157\n",
      "metal          120\n",
      "jazz           100\n",
      "folk            97\n",
      "soundtrack      95\n",
      "Name: user_id, dtype: int64\n"
     ]
    }
   ],
   "source": [
    "# calling the function for Monday morning in Springfield (use spr_general instead of the df table)\n",
    "print(genre_weekday(spr_general, 'Monday', '07:00:00', '11:00:00'))"
   ]
  },
  {
   "cell_type": "code",
   "execution_count": 33,
   "metadata": {
    "id": "kwUcHPdy_Zcu"
   },
   "outputs": [
    {
     "name": "stdout",
     "output_type": "stream",
     "text": [
      "genre\n",
      "pop            218\n",
      "dance          182\n",
      "rock           162\n",
      "electronic     147\n",
      "hiphop          80\n",
      "ruspop          64\n",
      "alternative     58\n",
      "rusrap          55\n",
      "jazz            44\n",
      "classical       40\n",
      "world           36\n",
      "rap             32\n",
      "soundtrack      31\n",
      "rnb             27\n",
      "metal           27\n",
      "Name: user_id, dtype: int64\n"
     ]
    }
   ],
   "source": [
    "# calling the function for Monday morning in Shelbyville (use shel_general instead of the df table)\n",
    "print(genre_weekday(shel_general, 'Monday', '07:00:00', '11:00:00'))"
   ]
  },
  {
   "cell_type": "code",
   "execution_count": 34,
   "metadata": {
    "id": "EzXVRE1o_Zcu"
   },
   "outputs": [
    {
     "name": "stdout",
     "output_type": "stream",
     "text": [
      "genre\n",
      "pop            713\n",
      "rock           517\n",
      "dance          495\n",
      "electronic     482\n",
      "hiphop         273\n",
      "world          208\n",
      "ruspop         170\n",
      "classical      163\n",
      "alternative    163\n",
      "rusrap         142\n",
      "jazz           111\n",
      "unknown        110\n",
      "soundtrack     105\n",
      "rnb             90\n",
      "metal           88\n",
      "Name: user_id, dtype: int64\n"
     ]
    }
   ],
   "source": [
    "# calling the function for Friday evening in Springfield\n",
    "print(genre_weekday(spr_general, 'Friday', '17:00:00', '23:00:00'))"
   ]
  },
  {
   "cell_type": "code",
   "execution_count": 35,
   "metadata": {
    "id": "JZaEKu5v_Zcu"
   },
   "outputs": [
    {
     "name": "stdout",
     "output_type": "stream",
     "text": [
      "genre\n",
      "pop            256\n",
      "rock           216\n",
      "electronic     216\n",
      "dance          210\n",
      "hiphop          97\n",
      "alternative     63\n",
      "jazz            61\n",
      "classical       60\n",
      "rusrap          59\n",
      "world           54\n",
      "unknown         47\n",
      "ruspop          47\n",
      "soundtrack      40\n",
      "metal           39\n",
      "rap             36\n",
      "Name: user_id, dtype: int64\n"
     ]
    }
   ],
   "source": [
    "# calling the function for Friday evening in Shelbyville\n",
    "print(genre_weekday(shel_general, 'Friday', '17:00:00', '23:00:00'))"
   ]
  },
  {
   "cell_type": "markdown",
   "metadata": {
    "id": "wrCe4MNX_Zcu"
   },
   "source": [
    "**Conclusion**\n",
    "\n",
    "Having compared the top 15 genres on Monday morning, we can draw the following conclusions:\n",
    "\n",
    "1. Users from Springfield and Shelbyville listen to similar music. The top five genres are the same, only rock and electronic have switched places.\n",
    "\n",
    "2. In Springfield, the number of missing values turned out to be so big that the value `'unknown'` came in 10th. This means that missing values make up a considerable portion of the data, which may be a basis for questioning the reliability of our conclusions.\n",
    "\n",
    "For Friday evening, the situation is similar. Individual genres vary somewhat, but on the whole, the top 15 is similar for the two cities.\n",
    "\n",
    "Thus, the second hypothesis has been partially proven true:\n",
    "* Users listen to similar music at the beginning and end of the week.\n",
    "* There is no major difference between Springfield and Shelbyville. In both cities, pop is the most popular genre.\n",
    "\n",
    "However, the number of missing values makes this result questionable. In Springfield, there are so many that they affect our top 15. Were we not missing these values, things might look different."
   ]
  },
  {
   "cell_type": "markdown",
   "metadata": {},
   "source": [
    "<div class=\"alert alert-success\">\n",
    "<b>Reviewer's comment v1:</b>\n",
    "    \n",
    "And now with the help of the function we got all required information. "
   ]
  },
  {
   "cell_type": "markdown",
   "metadata": {
    "id": "jLmXgdanVyhP"
   },
   "source": [
    "[Back to Contents](#back)"
   ]
  },
  {
   "cell_type": "markdown",
   "metadata": {
    "id": "JolODAqr_Zcu"
   },
   "source": [
    "### Hypothesis 3: genre preferences in Springfield and Shelbyville <a id='genre'></a>\n",
    "\n",
    "Hypothesis: Shelbyville loves rap music. Springfield's citizens are more into pop."
   ]
  },
  {
   "cell_type": "markdown",
   "metadata": {
    "id": "DlegSvaT_Zcu"
   },
   "source": [
    "Group the `spr_general` table by genre and find the number of songs played for each genre with the `count()` method. Then sort the result in descending order and store it to `spr_genres`."
   ]
  },
  {
   "cell_type": "code",
   "execution_count": 36,
   "metadata": {
    "id": "r19lIPke_Zcu"
   },
   "outputs": [],
   "source": [
    "# on one line: group the spr_general table by the 'genre' column, \n",
    "# count the 'genre' values with count() in the grouping, \n",
    "# sort the resulting Series in descending order, and store it to spr_genres\n",
    "spr_genres = spr_general.groupby('genre')['genre'].count().sort_values(ascending=False)"
   ]
  },
  {
   "cell_type": "markdown",
   "metadata": {
    "id": "6kMuomxTiIr8"
   },
   "source": [
    "Print the first 10 rows from `spr_genres`:"
   ]
  },
  {
   "cell_type": "code",
   "execution_count": 37,
   "metadata": {
    "id": "WhCSooF8_Zcv"
   },
   "outputs": [
    {
     "name": "stdout",
     "output_type": "stream",
     "text": [
      "genre\n",
      "pop            5892\n",
      "dance          4435\n",
      "rock           3965\n",
      "electronic     3786\n",
      "hiphop         2094\n",
      "classical      1616\n",
      "world          1432\n",
      "alternative    1379\n",
      "ruspop         1372\n",
      "rusrap         1161\n",
      "Name: genre, dtype: int64\n"
     ]
    }
   ],
   "source": [
    "# printing the first 10 rows of spr_genres\n",
    "print(spr_genres.head(10))"
   ]
  },
  {
   "cell_type": "markdown",
   "metadata": {},
   "source": [
    "<div class=\"alert alert-success\">\n",
    "<b>Reviewer's comment v1:</b>\n",
    "    \n",
    "Great that you applied groupby method here. \n"
   ]
  },
  {
   "cell_type": "markdown",
   "metadata": {
    "id": "cnPG2vnN_Zcv"
   },
   "source": [
    "Now do the same with the data on Shelbyville.\n",
    "\n",
    "Group the `shel_general` table by genre and find the number of songs played for each genre. Then sort the result in descending order and store it to the `shel_genres` table:\n"
   ]
  },
  {
   "cell_type": "code",
   "execution_count": 38,
   "metadata": {
    "id": "gluLIpE7_Zcv"
   },
   "outputs": [],
   "source": [
    "# on one line: group the shel_general table by the 'genre' column, \n",
    "# count the 'genre' values in the grouping with count(), \n",
    "# sort the resulting Series in descending order and store it to shel_genres\n",
    "shel_genres = shel_general.groupby('genre')['genre'].count().sort_values(ascending=False)"
   ]
  },
  {
   "cell_type": "markdown",
   "metadata": {
    "id": "5Doha_ODgyQ8"
   },
   "source": [
    "Print the first 10 rows of `shel_genres`:"
   ]
  },
  {
   "cell_type": "code",
   "execution_count": 39,
   "metadata": {
    "id": "uaGJHjVU_Zcv"
   },
   "outputs": [
    {
     "name": "stdout",
     "output_type": "stream",
     "text": [
      "genre\n",
      "pop            2431\n",
      "dance          1932\n",
      "rock           1879\n",
      "electronic     1736\n",
      "hiphop          960\n",
      "alternative     649\n",
      "classical       646\n",
      "rusrap          564\n",
      "ruspop          538\n",
      "world           515\n",
      "Name: genre, dtype: int64\n"
     ]
    }
   ],
   "source": [
    "# printing the first 10 rows from shel_genres\n",
    "print(shel_genres.head(10))"
   ]
  },
  {
   "cell_type": "markdown",
   "metadata": {},
   "source": [
    "<div class=\"alert alert-success\">\n",
    "<b>Reviewer's comment v1:</b>\n",
    "    \n",
    "👏"
   ]
  },
  {
   "cell_type": "markdown",
   "metadata": {},
   "source": [
    "<div class=\"alert alert-warning\">\n",
    "<b>Reviewer's comment v1:</b>\n",
    "       \n",
    "Btw you can omit print() method in project notebooks as JupyterHub by default provides correct output. \n",
    " \n",
    "<b>Programmer's comment</b>    \n",
    "I had the knowledge that you could but the instructions said to print so I was following the instructions. On my own Jupyter Notebook, I typically omit the print statement. But it's noted and thank you! Thank you for this review the comments were spot on and the commenting I know is a weakness of mine."
   ]
  },
  {
   "cell_type": "markdown",
   "metadata": {},
   "source": [
    "<div class=\"alert alert-success\">\n",
    "<b>Reviewer's comment v2:</b>\n",
    "    \n",
    "Yeah, it is actually needed in the Practicum sandbox environment, but not in the Jupyter Notebook, and it is always better to have less code than more. \n",
    "\n",
    "Thank you for your improvements and feedback 🙌"
   ]
  },
  {
   "cell_type": "markdown",
   "metadata": {
    "id": "RY51YJYu_Zcv"
   },
   "source": [
    "**Conclusion**"
   ]
  },
  {
   "cell_type": "markdown",
   "metadata": {
    "id": "nVhnJEm__Zcv"
   },
   "source": [
    "The hypothesis has been partially proven true:\n",
    "* Pop music is the most popular genre in Springfield, as expected.\n",
    "* However, pop music turned out to be equally popular in Springfield and Shelbyville, and rap wasn't in the top 5 for either city.\n"
   ]
  },
  {
   "cell_type": "markdown",
   "metadata": {
    "id": "Byr0RfpPVz14"
   },
   "source": [
    "[Back to Contents](#back)"
   ]
  },
  {
   "cell_type": "markdown",
   "metadata": {
    "id": "ykKQ0N65_Zcv"
   },
   "source": [
    "# Findings <a id='end'></a>"
   ]
  },
  {
   "cell_type": "markdown",
   "metadata": {
    "id": "tjUwbHb3_Zcv"
   },
   "source": [
    "We have tested the following three hypotheses:\n",
    "\n",
    "1. User activity differs depending on the day of the week and from city to city. \n",
    "2. On Monday mornings, Springfield and Shelbyville residents listen to different genres. This is also true for Friday evenings. \n",
    "3. Springfield and Shelbyville listeners have different preferences. In both Springfield and Shelbyville, they prefer pop.\n",
    "\n",
    "After analyzing the data, we concluded:\n",
    "\n",
    "1. User activity in Springfield and Shelbyville depends on the day of the week, though the cities vary in different ways. \n",
    "\n",
    "The first hypothesis is fully accepted.\n",
    "\n",
    "2. Musical preferences do not vary significantly over the course of the week in both Springfield and Shelbyville. We can see small differences in order on Mondays, but:\n",
    "* In Springfield and Shelbyville, people listen to pop music most.\n",
    "\n",
    "So we can't accept this hypothesis. We must also keep in mind that the result could have been different if not for the missing values.\n",
    "\n",
    "3. It turns out that the musical preferences of users from Springfield and Shelbyville are quite similar.\n",
    "\n",
    "The third hypothesis is rejected. If there is any difference in preferences, it cannot be seen from this data.\n",
    "\n",
    "### Note \n",
    "In real projects, research involves statistical hypothesis testing, which is more precise and more quantitative. Also note that you cannot always draw conclusions about an entire city based on the data from just one source.\n",
    "\n",
    "You will study hypothesis testing in the sprint on statistical data analysis."
   ]
  },
  {
   "cell_type": "markdown",
   "metadata": {},
   "source": [
    "<div class=\"alert alert-success\">\n",
    "<b>Reviewer's comment v1:</b>\n",
    " \n",
    "Overall you did a great research. I only left some feedback in the notebook.\n",
    "    \n",
    "A small tip regarding overall conclusion in the project: \n",
    "    It represents the overall work progress that you achieved. On a real project, this is probably the only thing the business will read. Therefore, it is crucial to indicate in a structured way all conclusions that you made on each step in the project.\n",
    "\n",
    "For example:\n",
    "\n",
    "- Replaced missing values in the following data with the following method.\n",
    "- Replaced data types in the following columns.\n",
    "- etc.\n",
    "- We observe that ... factors impact ... \n",
    "- My analysis show ...\n",
    "- I can recommend the following next steps / activities ...\n",
    "\n",
    "It is also important to provide explanations and interpretations that will be interesting for business based on your analysis.\n",
    "\n",
    "</div>"
   ]
  },
  {
   "cell_type": "markdown",
   "metadata": {},
   "source": [
    "[Back to Contents](#back)"
   ]
  }
 ],
 "metadata": {
  "ExecuteTimeLog": [
   {
    "duration": 410,
    "start_time": "2022-08-20T23:42:42.510Z"
   },
   {
    "duration": 386,
    "start_time": "2022-08-20T23:43:16.817Z"
   },
   {
    "duration": 3,
    "start_time": "2022-08-20T23:43:19.576Z"
   },
   {
    "duration": 7,
    "start_time": "2022-08-20T23:43:34.523Z"
   },
   {
    "duration": 26,
    "start_time": "2022-08-20T23:44:50.772Z"
   },
   {
    "duration": 124,
    "start_time": "2022-08-20T23:45:21.484Z"
   },
   {
    "duration": 88,
    "start_time": "2022-08-20T23:45:26.092Z"
   },
   {
    "duration": 26,
    "start_time": "2022-08-20T23:45:29.589Z"
   },
   {
    "duration": 4,
    "start_time": "2022-08-20T23:45:52.855Z"
   },
   {
    "duration": 8,
    "start_time": "2022-08-20T23:46:03.972Z"
   },
   {
    "duration": 25,
    "start_time": "2022-08-20T23:46:08.770Z"
   },
   {
    "duration": 4,
    "start_time": "2022-08-21T00:54:34.844Z"
   },
   {
    "duration": 16,
    "start_time": "2022-08-21T00:58:07.724Z"
   },
   {
    "duration": 5,
    "start_time": "2022-08-21T00:58:56.979Z"
   },
   {
    "duration": 22,
    "start_time": "2022-08-21T00:59:32.515Z"
   },
   {
    "duration": 39,
    "start_time": "2022-08-21T01:34:11.566Z"
   },
   {
    "duration": 16,
    "start_time": "2022-08-21T02:18:22.298Z"
   },
   {
    "duration": 15,
    "start_time": "2022-08-21T02:18:44.399Z"
   },
   {
    "duration": 21,
    "start_time": "2022-08-21T02:18:48.266Z"
   },
   {
    "duration": 16,
    "start_time": "2022-08-21T02:19:28.627Z"
   },
   {
    "duration": 24,
    "start_time": "2022-08-21T02:19:29.579Z"
   },
   {
    "duration": 28,
    "start_time": "2022-08-21T03:00:44.022Z"
   },
   {
    "duration": 27,
    "start_time": "2022-08-21T03:00:55.062Z"
   },
   {
    "duration": 31,
    "start_time": "2022-08-21T03:01:00.389Z"
   },
   {
    "duration": 50,
    "start_time": "2022-08-21T03:01:14.960Z"
   },
   {
    "duration": 28,
    "start_time": "2022-08-21T03:01:37.391Z"
   },
   {
    "duration": 21,
    "start_time": "2022-08-21T03:02:50.222Z"
   },
   {
    "duration": 61,
    "start_time": "2022-08-21T03:30:20.291Z"
   },
   {
    "duration": 112,
    "start_time": "2022-08-21T03:31:13.449Z"
   },
   {
    "duration": 123,
    "start_time": "2022-08-21T03:31:18.141Z"
   },
   {
    "duration": 63,
    "start_time": "2022-08-21T03:31:42.873Z"
   },
   {
    "duration": 69,
    "start_time": "2022-08-21T03:32:21.214Z"
   },
   {
    "duration": 63,
    "start_time": "2022-08-21T03:32:25.971Z"
   },
   {
    "duration": 53,
    "start_time": "2022-08-21T03:32:35.913Z"
   },
   {
    "duration": 62,
    "start_time": "2022-08-21T03:32:52.577Z"
   },
   {
    "duration": 60,
    "start_time": "2022-08-21T03:32:53.680Z"
   },
   {
    "duration": 9,
    "start_time": "2022-08-21T03:34:01.986Z"
   },
   {
    "duration": 9,
    "start_time": "2022-08-21T03:37:17.219Z"
   },
   {
    "duration": 6,
    "start_time": "2022-08-21T03:37:27.483Z"
   },
   {
    "duration": 7,
    "start_time": "2022-08-21T03:37:46.843Z"
   },
   {
    "duration": 7,
    "start_time": "2022-08-21T03:37:53.317Z"
   },
   {
    "duration": 54,
    "start_time": "2022-08-21T04:12:23.565Z"
   },
   {
    "duration": 10,
    "start_time": "2022-08-21T04:12:37.130Z"
   },
   {
    "duration": 11,
    "start_time": "2022-08-21T04:12:49.831Z"
   },
   {
    "duration": 7,
    "start_time": "2022-08-21T04:12:53.833Z"
   },
   {
    "duration": 91,
    "start_time": "2022-08-21T04:13:15.798Z"
   },
   {
    "duration": 6,
    "start_time": "2022-08-21T04:13:19.824Z"
   },
   {
    "duration": 9,
    "start_time": "2022-08-21T04:13:23.682Z"
   },
   {
    "duration": 10,
    "start_time": "2022-08-21T04:13:36.224Z"
   },
   {
    "duration": 10,
    "start_time": "2022-08-21T04:13:42.622Z"
   },
   {
    "duration": 18,
    "start_time": "2022-08-21T04:48:28.426Z"
   },
   {
    "duration": 100,
    "start_time": "2022-08-21T04:49:19.127Z"
   },
   {
    "duration": 158,
    "start_time": "2022-08-21T04:49:23.886Z"
   },
   {
    "duration": 3,
    "start_time": "2022-08-21T04:49:27.875Z"
   },
   {
    "duration": 3,
    "start_time": "2022-08-21T04:49:38.555Z"
   },
   {
    "duration": 6,
    "start_time": "2022-08-21T04:49:43.837Z"
   },
   {
    "duration": 48,
    "start_time": "2022-08-21T04:50:06.473Z"
   },
   {
    "duration": 37,
    "start_time": "2022-08-21T04:50:40.695Z"
   },
   {
    "duration": 36,
    "start_time": "2022-08-21T04:51:04.245Z"
   },
   {
    "duration": 54,
    "start_time": "2022-08-21T04:51:44.612Z"
   },
   {
    "duration": 4,
    "start_time": "2022-08-21T05:09:56.620Z"
   },
   {
    "duration": 8,
    "start_time": "2022-08-21T05:13:38.037Z"
   },
   {
    "duration": 3,
    "start_time": "2022-08-21T05:14:39.473Z"
   },
   {
    "duration": 8,
    "start_time": "2022-08-21T05:14:40.669Z"
   },
   {
    "duration": 9,
    "start_time": "2022-08-21T05:21:19.354Z"
   },
   {
    "duration": 10,
    "start_time": "2022-08-21T05:23:56.113Z"
   },
   {
    "duration": 426,
    "start_time": "2022-08-21T14:54:58.362Z"
   },
   {
    "duration": 326,
    "start_time": "2022-08-21T14:54:59.273Z"
   },
   {
    "duration": 6,
    "start_time": "2022-08-21T14:55:00.428Z"
   },
   {
    "duration": 25,
    "start_time": "2022-08-21T14:55:01.620Z"
   },
   {
    "duration": 4,
    "start_time": "2022-08-21T14:55:10.174Z"
   },
   {
    "duration": 13,
    "start_time": "2022-08-21T14:55:13.671Z"
   },
   {
    "duration": 4,
    "start_time": "2022-08-21T14:55:15.700Z"
   },
   {
    "duration": 19,
    "start_time": "2022-08-21T14:55:19.061Z"
   },
   {
    "duration": 16,
    "start_time": "2022-08-21T14:55:21.994Z"
   },
   {
    "duration": 18,
    "start_time": "2022-08-21T14:55:23.580Z"
   },
   {
    "duration": 54,
    "start_time": "2022-08-21T14:55:27.703Z"
   },
   {
    "duration": 70,
    "start_time": "2022-08-21T14:55:32.366Z"
   },
   {
    "duration": 56,
    "start_time": "2022-08-21T14:55:33.580Z"
   },
   {
    "duration": 43,
    "start_time": "2022-08-21T14:55:51.726Z"
   },
   {
    "duration": 3,
    "start_time": "2022-08-21T14:57:13.421Z"
   },
   {
    "duration": 67,
    "start_time": "2022-08-21T14:57:15.617Z"
   },
   {
    "duration": 3,
    "start_time": "2022-08-21T14:58:10.367Z"
   },
   {
    "duration": 14,
    "start_time": "2022-08-21T14:58:11.118Z"
   },
   {
    "duration": 3,
    "start_time": "2022-08-21T14:59:18.539Z"
   },
   {
    "duration": 8,
    "start_time": "2022-08-21T14:59:19.623Z"
   },
   {
    "duration": 13,
    "start_time": "2022-08-21T14:59:27.610Z"
   },
   {
    "duration": 8,
    "start_time": "2022-08-21T14:59:37.177Z"
   },
   {
    "duration": 7,
    "start_time": "2022-08-21T15:00:13.256Z"
   },
   {
    "duration": 7,
    "start_time": "2022-08-21T15:00:44.499Z"
   },
   {
    "duration": 6,
    "start_time": "2022-08-21T15:01:07.232Z"
   },
   {
    "duration": 6,
    "start_time": "2022-08-21T15:01:27.426Z"
   },
   {
    "duration": 15,
    "start_time": "2022-08-21T15:22:49.981Z"
   },
   {
    "duration": 3,
    "start_time": "2022-08-21T15:23:09.294Z"
   },
   {
    "duration": 42,
    "start_time": "2022-08-21T15:24:31.575Z"
   },
   {
    "duration": 45,
    "start_time": "2022-08-21T15:24:40.767Z"
   },
   {
    "duration": 52,
    "start_time": "2022-08-21T15:24:44.512Z"
   },
   {
    "duration": 14,
    "start_time": "2022-08-21T15:24:54.543Z"
   },
   {
    "duration": 11,
    "start_time": "2022-08-21T15:29:42.455Z"
   },
   {
    "duration": 12,
    "start_time": "2022-08-21T15:29:50.866Z"
   },
   {
    "duration": 11,
    "start_time": "2022-08-21T15:29:57.154Z"
   },
   {
    "duration": 10,
    "start_time": "2022-08-21T15:30:10.882Z"
   },
   {
    "duration": 2,
    "start_time": "2022-08-21T15:30:23.584Z"
   },
   {
    "duration": 265,
    "start_time": "2022-08-21T15:30:23.591Z"
   },
   {
    "duration": 5,
    "start_time": "2022-08-21T15:30:23.858Z"
   },
   {
    "duration": 37,
    "start_time": "2022-08-21T15:30:23.865Z"
   },
   {
    "duration": 4,
    "start_time": "2022-08-21T15:30:23.903Z"
   },
   {
    "duration": 15,
    "start_time": "2022-08-21T15:30:23.909Z"
   },
   {
    "duration": 4,
    "start_time": "2022-08-21T15:30:23.926Z"
   },
   {
    "duration": 24,
    "start_time": "2022-08-21T15:30:23.931Z"
   },
   {
    "duration": 35,
    "start_time": "2022-08-21T15:30:23.956Z"
   },
   {
    "duration": 27,
    "start_time": "2022-08-21T15:30:23.993Z"
   },
   {
    "duration": 64,
    "start_time": "2022-08-21T15:30:24.021Z"
   },
   {
    "duration": 74,
    "start_time": "2022-08-21T15:30:24.087Z"
   },
   {
    "duration": 70,
    "start_time": "2022-08-21T15:30:24.163Z"
   },
   {
    "duration": 33,
    "start_time": "2022-08-21T15:30:24.235Z"
   },
   {
    "duration": 8,
    "start_time": "2022-08-21T15:30:24.270Z"
   },
   {
    "duration": 17,
    "start_time": "2022-08-21T15:30:24.285Z"
   },
   {
    "duration": 6,
    "start_time": "2022-08-21T15:30:24.304Z"
   },
   {
    "duration": 9,
    "start_time": "2022-08-21T15:30:24.311Z"
   },
   {
    "duration": 0,
    "start_time": "2022-08-21T15:30:24.322Z"
   },
   {
    "duration": 0,
    "start_time": "2022-08-21T15:30:24.323Z"
   },
   {
    "duration": 0,
    "start_time": "2022-08-21T15:30:24.324Z"
   },
   {
    "duration": 0,
    "start_time": "2022-08-21T15:30:24.325Z"
   },
   {
    "duration": 0,
    "start_time": "2022-08-21T15:30:24.326Z"
   },
   {
    "duration": 0,
    "start_time": "2022-08-21T15:30:24.327Z"
   },
   {
    "duration": 0,
    "start_time": "2022-08-21T15:30:24.328Z"
   },
   {
    "duration": 0,
    "start_time": "2022-08-21T15:30:24.329Z"
   },
   {
    "duration": 0,
    "start_time": "2022-08-21T15:30:24.330Z"
   },
   {
    "duration": 0,
    "start_time": "2022-08-21T15:30:24.332Z"
   },
   {
    "duration": 0,
    "start_time": "2022-08-21T15:30:24.332Z"
   },
   {
    "duration": 0,
    "start_time": "2022-08-21T15:30:24.333Z"
   },
   {
    "duration": 0,
    "start_time": "2022-08-21T15:30:24.334Z"
   },
   {
    "duration": 0,
    "start_time": "2022-08-21T15:30:24.335Z"
   },
   {
    "duration": 0,
    "start_time": "2022-08-21T15:30:24.336Z"
   },
   {
    "duration": 0,
    "start_time": "2022-08-21T15:30:24.337Z"
   },
   {
    "duration": 0,
    "start_time": "2022-08-21T15:30:24.338Z"
   },
   {
    "duration": 0,
    "start_time": "2022-08-21T15:30:24.339Z"
   },
   {
    "duration": 0,
    "start_time": "2022-08-21T15:30:24.340Z"
   },
   {
    "duration": 0,
    "start_time": "2022-08-21T15:30:24.341Z"
   },
   {
    "duration": 11,
    "start_time": "2022-08-21T15:30:38.808Z"
   },
   {
    "duration": 5,
    "start_time": "2022-08-21T15:30:56.952Z"
   },
   {
    "duration": 11,
    "start_time": "2022-08-21T15:31:28.490Z"
   },
   {
    "duration": 11,
    "start_time": "2022-08-21T15:32:12.766Z"
   },
   {
    "duration": 14,
    "start_time": "2022-08-21T15:32:16.807Z"
   },
   {
    "duration": 9,
    "start_time": "2022-08-21T15:32:17.449Z"
   },
   {
    "duration": 10,
    "start_time": "2022-08-21T15:32:24.749Z"
   },
   {
    "duration": 10,
    "start_time": "2022-08-21T15:38:56.799Z"
   },
   {
    "duration": 11,
    "start_time": "2022-08-21T15:39:01.604Z"
   },
   {
    "duration": 7,
    "start_time": "2022-08-21T15:40:22.440Z"
   },
   {
    "duration": 10,
    "start_time": "2022-08-21T15:40:27.285Z"
   },
   {
    "duration": 17,
    "start_time": "2022-08-21T15:41:04.198Z"
   },
   {
    "duration": 16,
    "start_time": "2022-08-21T15:41:50.956Z"
   },
   {
    "duration": 25,
    "start_time": "2022-08-21T15:42:07.850Z"
   },
   {
    "duration": 26,
    "start_time": "2022-08-21T15:42:15.529Z"
   },
   {
    "duration": 22,
    "start_time": "2022-08-21T15:42:24.230Z"
   },
   {
    "duration": 23,
    "start_time": "2022-08-21T15:42:27.897Z"
   },
   {
    "duration": 2,
    "start_time": "2022-08-21T16:37:26.866Z"
   },
   {
    "duration": 235,
    "start_time": "2022-08-21T16:37:26.870Z"
   },
   {
    "duration": 6,
    "start_time": "2022-08-21T16:37:27.107Z"
   },
   {
    "duration": 26,
    "start_time": "2022-08-21T16:37:27.115Z"
   },
   {
    "duration": 3,
    "start_time": "2022-08-21T16:37:27.143Z"
   },
   {
    "duration": 14,
    "start_time": "2022-08-21T16:37:27.149Z"
   },
   {
    "duration": 4,
    "start_time": "2022-08-21T16:37:27.185Z"
   },
   {
    "duration": 21,
    "start_time": "2022-08-21T16:37:27.190Z"
   },
   {
    "duration": 17,
    "start_time": "2022-08-21T16:37:27.212Z"
   },
   {
    "duration": 17,
    "start_time": "2022-08-21T16:37:27.231Z"
   },
   {
    "duration": 72,
    "start_time": "2022-08-21T16:37:27.250Z"
   },
   {
    "duration": 69,
    "start_time": "2022-08-21T16:37:27.324Z"
   },
   {
    "duration": 49,
    "start_time": "2022-08-21T16:37:27.395Z"
   },
   {
    "duration": 49,
    "start_time": "2022-08-21T16:37:27.446Z"
   },
   {
    "duration": 3,
    "start_time": "2022-08-21T16:37:27.498Z"
   },
   {
    "duration": 10,
    "start_time": "2022-08-21T16:37:27.503Z"
   },
   {
    "duration": 7,
    "start_time": "2022-08-21T16:37:27.515Z"
   },
   {
    "duration": 13,
    "start_time": "2022-08-21T16:37:27.523Z"
   },
   {
    "duration": 52,
    "start_time": "2022-08-21T16:37:27.538Z"
   },
   {
    "duration": 3,
    "start_time": "2022-08-21T16:37:27.591Z"
   },
   {
    "duration": 8,
    "start_time": "2022-08-21T16:37:27.595Z"
   },
   {
    "duration": 4,
    "start_time": "2022-08-21T16:37:27.604Z"
   },
   {
    "duration": 5,
    "start_time": "2022-08-21T16:37:27.610Z"
   },
   {
    "duration": 4,
    "start_time": "2022-08-21T16:37:27.617Z"
   },
   {
    "duration": 8,
    "start_time": "2022-08-21T16:37:27.622Z"
   },
   {
    "duration": 10,
    "start_time": "2022-08-21T16:37:27.631Z"
   },
   {
    "duration": 7,
    "start_time": "2022-08-21T16:37:27.642Z"
   },
   {
    "duration": 5,
    "start_time": "2022-08-21T16:37:27.651Z"
   },
   {
    "duration": 5,
    "start_time": "2022-08-21T16:37:27.657Z"
   },
   {
    "duration": 150,
    "start_time": "2022-08-21T16:37:27.663Z"
   },
   {
    "duration": 0,
    "start_time": "2022-08-21T16:37:27.815Z"
   },
   {
    "duration": 0,
    "start_time": "2022-08-21T16:37:27.817Z"
   },
   {
    "duration": 0,
    "start_time": "2022-08-21T16:37:27.818Z"
   },
   {
    "duration": 0,
    "start_time": "2022-08-21T16:37:27.819Z"
   },
   {
    "duration": 0,
    "start_time": "2022-08-21T16:37:27.820Z"
   },
   {
    "duration": 0,
    "start_time": "2022-08-21T16:37:27.821Z"
   },
   {
    "duration": 0,
    "start_time": "2022-08-21T16:37:27.822Z"
   },
   {
    "duration": 0,
    "start_time": "2022-08-21T16:37:27.823Z"
   },
   {
    "duration": 409,
    "start_time": "2022-08-22T21:33:38.334Z"
   },
   {
    "duration": 345,
    "start_time": "2022-08-22T21:33:42.919Z"
   },
   {
    "duration": 8,
    "start_time": "2022-08-22T21:34:00.589Z"
   },
   {
    "duration": 29,
    "start_time": "2022-08-22T21:34:02.205Z"
   },
   {
    "duration": 4,
    "start_time": "2022-08-22T21:34:04.799Z"
   },
   {
    "duration": 13,
    "start_time": "2022-08-22T21:34:05.527Z"
   },
   {
    "duration": 4,
    "start_time": "2022-08-22T21:34:06.461Z"
   },
   {
    "duration": 21,
    "start_time": "2022-08-22T21:34:09.126Z"
   },
   {
    "duration": 18,
    "start_time": "2022-08-22T21:34:13.594Z"
   },
   {
    "duration": 22,
    "start_time": "2022-08-22T21:34:15.548Z"
   },
   {
    "duration": 76,
    "start_time": "2022-08-22T21:34:16.916Z"
   },
   {
    "duration": 74,
    "start_time": "2022-08-22T21:34:18.921Z"
   },
   {
    "duration": 54,
    "start_time": "2022-08-22T21:34:22.827Z"
   },
   {
    "duration": 34,
    "start_time": "2022-08-22T21:34:25.510Z"
   },
   {
    "duration": 3,
    "start_time": "2022-08-22T21:34:27.296Z"
   },
   {
    "duration": 10,
    "start_time": "2022-08-22T21:34:46.785Z"
   },
   {
    "duration": 6,
    "start_time": "2022-08-22T21:34:49.358Z"
   },
   {
    "duration": 12,
    "start_time": "2022-08-22T21:34:56.974Z"
   },
   {
    "duration": 23,
    "start_time": "2022-08-22T21:35:09.813Z"
   },
   {
    "duration": 3,
    "start_time": "2022-08-22T22:45:22.958Z"
   },
   {
    "duration": 280,
    "start_time": "2022-08-22T22:45:22.970Z"
   },
   {
    "duration": 6,
    "start_time": "2022-08-22T22:45:23.261Z"
   },
   {
    "duration": 29,
    "start_time": "2022-08-22T22:45:23.268Z"
   },
   {
    "duration": 4,
    "start_time": "2022-08-22T22:45:23.298Z"
   },
   {
    "duration": 13,
    "start_time": "2022-08-22T22:45:23.304Z"
   },
   {
    "duration": 6,
    "start_time": "2022-08-22T22:45:23.318Z"
   },
   {
    "duration": 42,
    "start_time": "2022-08-22T22:45:23.325Z"
   },
   {
    "duration": 15,
    "start_time": "2022-08-22T22:45:23.369Z"
   },
   {
    "duration": 18,
    "start_time": "2022-08-22T22:45:23.385Z"
   },
   {
    "duration": 66,
    "start_time": "2022-08-22T22:45:23.405Z"
   },
   {
    "duration": 56,
    "start_time": "2022-08-22T22:45:23.473Z"
   },
   {
    "duration": 68,
    "start_time": "2022-08-22T22:45:23.531Z"
   },
   {
    "duration": 38,
    "start_time": "2022-08-22T22:45:23.601Z"
   },
   {
    "duration": 3,
    "start_time": "2022-08-22T22:45:23.642Z"
   },
   {
    "duration": 13,
    "start_time": "2022-08-22T22:45:23.657Z"
   },
   {
    "duration": 5,
    "start_time": "2022-08-22T22:45:23.672Z"
   },
   {
    "duration": 13,
    "start_time": "2022-08-22T22:45:23.678Z"
   },
   {
    "duration": 21,
    "start_time": "2022-08-22T22:45:23.693Z"
   },
   {
    "duration": 3,
    "start_time": "2022-08-22T22:45:23.715Z"
   },
   {
    "duration": 6,
    "start_time": "2022-08-22T22:45:23.719Z"
   },
   {
    "duration": 26,
    "start_time": "2022-08-22T22:45:23.727Z"
   },
   {
    "duration": 12,
    "start_time": "2022-08-22T22:45:23.757Z"
   },
   {
    "duration": 30,
    "start_time": "2022-08-22T22:45:23.770Z"
   },
   {
    "duration": 12,
    "start_time": "2022-08-22T22:45:23.802Z"
   },
   {
    "duration": 11,
    "start_time": "2022-08-22T22:45:23.816Z"
   },
   {
    "duration": 9,
    "start_time": "2022-08-22T22:45:23.828Z"
   },
   {
    "duration": 4,
    "start_time": "2022-08-22T22:45:23.839Z"
   },
   {
    "duration": 30,
    "start_time": "2022-08-22T22:45:23.845Z"
   },
   {
    "duration": 6,
    "start_time": "2022-08-22T22:45:23.876Z"
   },
   {
    "duration": 93,
    "start_time": "2022-08-22T22:45:23.884Z"
   },
   {
    "duration": 0,
    "start_time": "2022-08-22T22:45:23.979Z"
   },
   {
    "duration": 0,
    "start_time": "2022-08-22T22:45:23.980Z"
   },
   {
    "duration": 0,
    "start_time": "2022-08-22T22:45:23.981Z"
   },
   {
    "duration": 0,
    "start_time": "2022-08-22T22:45:23.982Z"
   },
   {
    "duration": 0,
    "start_time": "2022-08-22T22:45:23.983Z"
   },
   {
    "duration": 0,
    "start_time": "2022-08-22T22:45:23.983Z"
   },
   {
    "duration": 0,
    "start_time": "2022-08-22T22:45:23.984Z"
   },
   {
    "duration": 0,
    "start_time": "2022-08-22T22:45:23.985Z"
   },
   {
    "duration": 3,
    "start_time": "2022-08-22T22:46:24.275Z"
   },
   {
    "duration": 16,
    "start_time": "2022-08-22T22:46:57.044Z"
   },
   {
    "duration": 3,
    "start_time": "2022-08-22T22:47:16.934Z"
   },
   {
    "duration": 15,
    "start_time": "2022-08-22T22:47:18.117Z"
   },
   {
    "duration": 3,
    "start_time": "2022-08-22T22:47:41.455Z"
   },
   {
    "duration": 1516,
    "start_time": "2022-08-22T22:47:42.633Z"
   },
   {
    "duration": 18,
    "start_time": "2022-08-22T22:49:42.040Z"
   },
   {
    "duration": 23,
    "start_time": "2022-08-22T22:49:52.780Z"
   },
   {
    "duration": 23,
    "start_time": "2022-08-22T22:50:51.124Z"
   },
   {
    "duration": 16,
    "start_time": "2022-08-22T22:55:48.757Z"
   },
   {
    "duration": 15,
    "start_time": "2022-08-22T22:55:55.900Z"
   },
   {
    "duration": 16,
    "start_time": "2022-08-22T22:56:06.761Z"
   },
   {
    "duration": 15,
    "start_time": "2022-08-22T22:56:07.808Z"
   },
   {
    "duration": 19,
    "start_time": "2022-08-22T22:56:14.195Z"
   },
   {
    "duration": 29,
    "start_time": "2022-08-22T22:56:25.288Z"
   },
   {
    "duration": 2,
    "start_time": "2022-08-22T22:57:56.568Z"
   },
   {
    "duration": 32,
    "start_time": "2022-08-22T23:01:02.687Z"
   },
   {
    "duration": 86,
    "start_time": "2022-08-22T23:03:50.642Z"
   },
   {
    "duration": 35,
    "start_time": "2022-08-22T23:04:01.972Z"
   },
   {
    "duration": 3,
    "start_time": "2022-08-22T23:05:43.670Z"
   },
   {
    "duration": 1905,
    "start_time": "2022-08-22T23:05:48.892Z"
   },
   {
    "duration": 2166,
    "start_time": "2022-08-22T23:06:44.283Z"
   },
   {
    "duration": 0,
    "start_time": "2022-08-22T23:06:46.451Z"
   },
   {
    "duration": 1832,
    "start_time": "2022-08-22T23:06:53.575Z"
   },
   {
    "duration": 2303,
    "start_time": "2022-08-22T23:06:59.015Z"
   },
   {
    "duration": 3,
    "start_time": "2022-08-22T23:07:22.047Z"
   },
   {
    "duration": 20,
    "start_time": "2022-08-22T23:07:23.457Z"
   },
   {
    "duration": 20,
    "start_time": "2022-08-22T23:07:28.422Z"
   },
   {
    "duration": 22,
    "start_time": "2022-08-22T23:07:29.832Z"
   },
   {
    "duration": 19,
    "start_time": "2022-08-22T23:07:42.752Z"
   },
   {
    "duration": 21,
    "start_time": "2022-08-22T23:07:45.536Z"
   },
   {
    "duration": 20,
    "start_time": "2022-08-22T23:07:47.363Z"
   },
   {
    "duration": 3,
    "start_time": "2022-08-22T23:09:17.089Z"
   },
   {
    "duration": 24,
    "start_time": "2022-08-22T23:09:18.508Z"
   },
   {
    "duration": 3,
    "start_time": "2022-08-22T23:10:16.609Z"
   },
   {
    "duration": 24,
    "start_time": "2022-08-22T23:10:17.509Z"
   },
   {
    "duration": 3,
    "start_time": "2022-08-22T23:10:21.225Z"
   },
   {
    "duration": 27,
    "start_time": "2022-08-22T23:10:22.431Z"
   },
   {
    "duration": 3,
    "start_time": "2022-08-22T23:10:36.513Z"
   },
   {
    "duration": 25,
    "start_time": "2022-08-22T23:10:37.627Z"
   },
   {
    "duration": 2,
    "start_time": "2022-08-22T23:10:44.869Z"
   },
   {
    "duration": 264,
    "start_time": "2022-08-22T23:10:44.873Z"
   },
   {
    "duration": 6,
    "start_time": "2022-08-22T23:10:45.139Z"
   },
   {
    "duration": 30,
    "start_time": "2022-08-22T23:10:45.147Z"
   },
   {
    "duration": 3,
    "start_time": "2022-08-22T23:10:45.179Z"
   },
   {
    "duration": 13,
    "start_time": "2022-08-22T23:10:45.184Z"
   },
   {
    "duration": 5,
    "start_time": "2022-08-22T23:10:45.198Z"
   },
   {
    "duration": 21,
    "start_time": "2022-08-22T23:10:45.205Z"
   },
   {
    "duration": 39,
    "start_time": "2022-08-22T23:10:45.229Z"
   },
   {
    "duration": 20,
    "start_time": "2022-08-22T23:10:45.269Z"
   },
   {
    "duration": 83,
    "start_time": "2022-08-22T23:10:45.291Z"
   },
   {
    "duration": 87,
    "start_time": "2022-08-22T23:10:45.376Z"
   },
   {
    "duration": 51,
    "start_time": "2022-08-22T23:10:45.465Z"
   },
   {
    "duration": 42,
    "start_time": "2022-08-22T23:10:45.518Z"
   },
   {
    "duration": 3,
    "start_time": "2022-08-22T23:10:45.561Z"
   },
   {
    "duration": 13,
    "start_time": "2022-08-22T23:10:45.565Z"
   },
   {
    "duration": 6,
    "start_time": "2022-08-22T23:10:45.579Z"
   },
   {
    "duration": 14,
    "start_time": "2022-08-22T23:10:45.586Z"
   },
   {
    "duration": 56,
    "start_time": "2022-08-22T23:10:45.602Z"
   },
   {
    "duration": 3,
    "start_time": "2022-08-22T23:10:45.660Z"
   },
   {
    "duration": 12,
    "start_time": "2022-08-22T23:10:45.664Z"
   },
   {
    "duration": 34,
    "start_time": "2022-08-22T23:10:45.678Z"
   },
   {
    "duration": 0,
    "start_time": "2022-08-22T23:10:45.714Z"
   },
   {
    "duration": 0,
    "start_time": "2022-08-22T23:10:45.715Z"
   },
   {
    "duration": 0,
    "start_time": "2022-08-22T23:10:45.716Z"
   },
   {
    "duration": 0,
    "start_time": "2022-08-22T23:10:45.717Z"
   },
   {
    "duration": 0,
    "start_time": "2022-08-22T23:10:45.718Z"
   },
   {
    "duration": 0,
    "start_time": "2022-08-22T23:10:45.719Z"
   },
   {
    "duration": 0,
    "start_time": "2022-08-22T23:10:45.721Z"
   },
   {
    "duration": 0,
    "start_time": "2022-08-22T23:10:45.723Z"
   },
   {
    "duration": 0,
    "start_time": "2022-08-22T23:10:45.724Z"
   },
   {
    "duration": 0,
    "start_time": "2022-08-22T23:10:45.757Z"
   },
   {
    "duration": 0,
    "start_time": "2022-08-22T23:10:45.758Z"
   },
   {
    "duration": 0,
    "start_time": "2022-08-22T23:10:45.760Z"
   },
   {
    "duration": 0,
    "start_time": "2022-08-22T23:10:45.761Z"
   },
   {
    "duration": 0,
    "start_time": "2022-08-22T23:10:45.762Z"
   },
   {
    "duration": 0,
    "start_time": "2022-08-22T23:10:45.763Z"
   },
   {
    "duration": 0,
    "start_time": "2022-08-22T23:10:45.764Z"
   },
   {
    "duration": 0,
    "start_time": "2022-08-22T23:10:45.765Z"
   },
   {
    "duration": 3,
    "start_time": "2022-08-22T23:11:04.682Z"
   },
   {
    "duration": 21,
    "start_time": "2022-08-22T23:11:06.053Z"
   },
   {
    "duration": 22,
    "start_time": "2022-08-22T23:11:07.492Z"
   },
   {
    "duration": 20,
    "start_time": "2022-08-22T23:11:08.081Z"
   },
   {
    "duration": 21,
    "start_time": "2022-08-22T23:11:08.614Z"
   },
   {
    "duration": 23,
    "start_time": "2022-08-22T23:11:08.932Z"
   },
   {
    "duration": 20,
    "start_time": "2022-08-22T23:11:09.159Z"
   },
   {
    "duration": 2,
    "start_time": "2022-08-22T23:11:09.592Z"
   },
   {
    "duration": 3,
    "start_time": "2022-08-22T23:12:38.583Z"
   },
   {
    "duration": 15,
    "start_time": "2022-08-22T23:12:39.839Z"
   },
   {
    "duration": 13,
    "start_time": "2022-08-22T23:12:52.657Z"
   },
   {
    "duration": 13,
    "start_time": "2022-08-22T23:12:54.141Z"
   },
   {
    "duration": 12,
    "start_time": "2022-08-22T23:12:54.873Z"
   },
   {
    "duration": 17,
    "start_time": "2022-08-22T23:12:55.591Z"
   },
   {
    "duration": 15,
    "start_time": "2022-08-22T23:12:56.168Z"
   },
   {
    "duration": 21,
    "start_time": "2022-08-22T23:13:24.864Z"
   },
   {
    "duration": 14,
    "start_time": "2022-08-22T23:15:09.472Z"
   },
   {
    "duration": 14,
    "start_time": "2022-08-22T23:15:15.606Z"
   },
   {
    "duration": 14,
    "start_time": "2022-08-22T23:15:26.143Z"
   },
   {
    "duration": 13,
    "start_time": "2022-08-22T23:15:31.197Z"
   },
   {
    "duration": 14,
    "start_time": "2022-08-22T23:15:36.994Z"
   },
   {
    "duration": 12,
    "start_time": "2022-08-22T23:15:41.213Z"
   },
   {
    "duration": 6,
    "start_time": "2022-08-22T23:16:21.312Z"
   },
   {
    "duration": 8,
    "start_time": "2022-08-22T23:16:46.470Z"
   },
   {
    "duration": 4,
    "start_time": "2022-08-22T23:18:18.192Z"
   },
   {
    "duration": 109,
    "start_time": "2022-08-22T23:18:27.787Z"
   },
   {
    "duration": 43,
    "start_time": "2022-08-22T23:20:55.516Z"
   },
   {
    "duration": 91,
    "start_time": "2022-08-22T23:21:48.673Z"
   },
   {
    "duration": 81,
    "start_time": "2022-08-22T23:21:56.290Z"
   },
   {
    "duration": 4,
    "start_time": "2022-08-22T23:22:13.490Z"
   },
   {
    "duration": 11,
    "start_time": "2022-08-22T23:22:17.447Z"
   },
   {
    "duration": 11,
    "start_time": "2022-08-22T23:22:56.607Z"
   },
   {
    "duration": 8,
    "start_time": "2022-08-22T23:23:36.367Z"
   },
   {
    "duration": 8,
    "start_time": "2022-08-22T23:24:31.898Z"
   },
   {
    "duration": 120,
    "start_time": "2022-08-22T23:25:05.185Z"
   },
   {
    "duration": 84,
    "start_time": "2022-08-22T23:25:22.938Z"
   },
   {
    "duration": 8,
    "start_time": "2022-08-22T23:25:31.287Z"
   },
   {
    "duration": 8,
    "start_time": "2022-08-22T23:25:36.273Z"
   },
   {
    "duration": 1367,
    "start_time": "2022-08-22T23:25:45.630Z"
   },
   {
    "duration": 8,
    "start_time": "2022-08-22T23:26:46.494Z"
   },
   {
    "duration": 99,
    "start_time": "2022-08-22T23:29:04.483Z"
   },
   {
    "duration": 4,
    "start_time": "2022-08-22T23:29:12.867Z"
   },
   {
    "duration": 7,
    "start_time": "2022-08-22T23:29:36.183Z"
   },
   {
    "duration": 1847,
    "start_time": "2022-08-22T23:30:12.148Z"
   },
   {
    "duration": 1545,
    "start_time": "2022-08-22T23:30:19.359Z"
   },
   {
    "duration": 1401,
    "start_time": "2022-08-22T23:30:33.089Z"
   },
   {
    "duration": 4,
    "start_time": "2022-08-22T23:30:50.319Z"
   },
   {
    "duration": 7,
    "start_time": "2022-08-22T23:31:01.324Z"
   },
   {
    "duration": 7,
    "start_time": "2022-08-22T23:31:20.060Z"
   },
   {
    "duration": 6,
    "start_time": "2022-08-22T23:31:30.073Z"
   },
   {
    "duration": 3,
    "start_time": "2022-08-22T23:33:07.881Z"
   },
   {
    "duration": 1542,
    "start_time": "2022-08-22T23:33:08.809Z"
   },
   {
    "duration": 0,
    "start_time": "2022-08-22T23:33:10.352Z"
   },
   {
    "duration": 3,
    "start_time": "2022-08-22T23:33:23.430Z"
   },
   {
    "duration": 248,
    "start_time": "2022-08-22T23:33:23.435Z"
   },
   {
    "duration": 6,
    "start_time": "2022-08-22T23:33:23.685Z"
   },
   {
    "duration": 36,
    "start_time": "2022-08-22T23:33:23.693Z"
   },
   {
    "duration": 4,
    "start_time": "2022-08-22T23:33:23.730Z"
   },
   {
    "duration": 13,
    "start_time": "2022-08-22T23:33:23.736Z"
   },
   {
    "duration": 9,
    "start_time": "2022-08-22T23:33:23.750Z"
   },
   {
    "duration": 22,
    "start_time": "2022-08-22T23:33:23.761Z"
   },
   {
    "duration": 21,
    "start_time": "2022-08-22T23:33:23.784Z"
   },
   {
    "duration": 19,
    "start_time": "2022-08-22T23:33:23.807Z"
   },
   {
    "duration": 64,
    "start_time": "2022-08-22T23:33:23.828Z"
   },
   {
    "duration": 65,
    "start_time": "2022-08-22T23:33:23.894Z"
   },
   {
    "duration": 48,
    "start_time": "2022-08-22T23:33:23.960Z"
   },
   {
    "duration": 33,
    "start_time": "2022-08-22T23:33:24.010Z"
   },
   {
    "duration": 4,
    "start_time": "2022-08-22T23:33:24.056Z"
   },
   {
    "duration": 10,
    "start_time": "2022-08-22T23:33:24.061Z"
   },
   {
    "duration": 5,
    "start_time": "2022-08-22T23:33:24.072Z"
   },
   {
    "duration": 16,
    "start_time": "2022-08-22T23:33:24.078Z"
   },
   {
    "duration": 20,
    "start_time": "2022-08-22T23:33:24.095Z"
   },
   {
    "duration": 3,
    "start_time": "2022-08-22T23:33:24.116Z"
   },
   {
    "duration": 6,
    "start_time": "2022-08-22T23:33:24.120Z"
   },
   {
    "duration": 36,
    "start_time": "2022-08-22T23:33:24.128Z"
   },
   {
    "duration": 13,
    "start_time": "2022-08-22T23:33:24.166Z"
   },
   {
    "duration": 13,
    "start_time": "2022-08-22T23:33:24.180Z"
   },
   {
    "duration": 13,
    "start_time": "2022-08-22T23:33:24.195Z"
   },
   {
    "duration": 14,
    "start_time": "2022-08-22T23:33:24.210Z"
   },
   {
    "duration": 13,
    "start_time": "2022-08-22T23:33:24.256Z"
   },
   {
    "duration": 8,
    "start_time": "2022-08-22T23:33:24.271Z"
   },
   {
    "duration": 6,
    "start_time": "2022-08-22T23:33:24.281Z"
   },
   {
    "duration": 7,
    "start_time": "2022-08-22T23:33:24.288Z"
   },
   {
    "duration": 141,
    "start_time": "2022-08-22T23:33:24.296Z"
   },
   {
    "duration": 0,
    "start_time": "2022-08-22T23:33:24.439Z"
   },
   {
    "duration": 0,
    "start_time": "2022-08-22T23:33:24.440Z"
   },
   {
    "duration": 0,
    "start_time": "2022-08-22T23:33:24.441Z"
   },
   {
    "duration": 0,
    "start_time": "2022-08-22T23:33:24.442Z"
   },
   {
    "duration": 0,
    "start_time": "2022-08-22T23:33:24.444Z"
   },
   {
    "duration": 0,
    "start_time": "2022-08-22T23:33:24.445Z"
   },
   {
    "duration": 0,
    "start_time": "2022-08-22T23:33:24.446Z"
   },
   {
    "duration": 0,
    "start_time": "2022-08-22T23:33:24.448Z"
   },
   {
    "duration": 13,
    "start_time": "2022-08-22T23:33:56.138Z"
   },
   {
    "duration": 9,
    "start_time": "2022-08-22T23:33:57.629Z"
   },
   {
    "duration": 3,
    "start_time": "2022-08-22T23:34:15.808Z"
   },
   {
    "duration": 247,
    "start_time": "2022-08-22T23:34:15.814Z"
   },
   {
    "duration": 5,
    "start_time": "2022-08-22T23:34:16.063Z"
   },
   {
    "duration": 24,
    "start_time": "2022-08-22T23:34:16.070Z"
   },
   {
    "duration": 3,
    "start_time": "2022-08-22T23:34:16.096Z"
   },
   {
    "duration": 9,
    "start_time": "2022-08-22T23:34:16.102Z"
   },
   {
    "duration": 3,
    "start_time": "2022-08-22T23:34:16.115Z"
   },
   {
    "duration": 44,
    "start_time": "2022-08-22T23:34:16.120Z"
   },
   {
    "duration": 15,
    "start_time": "2022-08-22T23:34:16.165Z"
   },
   {
    "duration": 19,
    "start_time": "2022-08-22T23:34:16.181Z"
   },
   {
    "duration": 69,
    "start_time": "2022-08-22T23:34:16.201Z"
   },
   {
    "duration": 59,
    "start_time": "2022-08-22T23:34:16.271Z"
   },
   {
    "duration": 62,
    "start_time": "2022-08-22T23:34:16.332Z"
   },
   {
    "duration": 37,
    "start_time": "2022-08-22T23:34:16.396Z"
   },
   {
    "duration": 2,
    "start_time": "2022-08-22T23:34:16.435Z"
   },
   {
    "duration": 22,
    "start_time": "2022-08-22T23:34:16.439Z"
   },
   {
    "duration": 5,
    "start_time": "2022-08-22T23:34:16.463Z"
   },
   {
    "duration": 12,
    "start_time": "2022-08-22T23:34:16.470Z"
   },
   {
    "duration": 19,
    "start_time": "2022-08-22T23:34:16.483Z"
   },
   {
    "duration": 3,
    "start_time": "2022-08-22T23:34:16.503Z"
   },
   {
    "duration": 5,
    "start_time": "2022-08-22T23:34:16.507Z"
   },
   {
    "duration": 17,
    "start_time": "2022-08-22T23:34:16.513Z"
   },
   {
    "duration": 33,
    "start_time": "2022-08-22T23:34:16.532Z"
   },
   {
    "duration": 13,
    "start_time": "2022-08-22T23:34:16.567Z"
   },
   {
    "duration": 12,
    "start_time": "2022-08-22T23:34:16.581Z"
   },
   {
    "duration": 14,
    "start_time": "2022-08-22T23:34:16.595Z"
   },
   {
    "duration": 50,
    "start_time": "2022-08-22T23:34:16.610Z"
   },
   {
    "duration": 9,
    "start_time": "2022-08-22T23:34:18.957Z"
   },
   {
    "duration": 7,
    "start_time": "2022-08-22T23:34:27.085Z"
   },
   {
    "duration": 8,
    "start_time": "2022-08-22T23:35:20.737Z"
   },
   {
    "duration": 84,
    "start_time": "2022-08-22T23:36:09.015Z"
   },
   {
    "duration": 21,
    "start_time": "2022-08-22T23:36:24.012Z"
   },
   {
    "duration": 9,
    "start_time": "2022-08-22T23:37:18.805Z"
   },
   {
    "duration": 18,
    "start_time": "2022-08-22T23:37:21.585Z"
   },
   {
    "duration": 15,
    "start_time": "2022-08-22T23:37:39.380Z"
   },
   {
    "duration": 19,
    "start_time": "2022-08-22T23:37:46.501Z"
   },
   {
    "duration": 22,
    "start_time": "2022-08-22T23:37:55.073Z"
   },
   {
    "duration": 22,
    "start_time": "2022-08-22T23:38:00.599Z"
   },
   {
    "duration": 4,
    "start_time": "2022-08-22T23:41:36.175Z"
   },
   {
    "duration": 19,
    "start_time": "2022-08-22T23:41:58.668Z"
   },
   {
    "duration": 20,
    "start_time": "2022-08-22T23:41:59.760Z"
   },
   {
    "duration": 13,
    "start_time": "2022-08-22T23:42:11.327Z"
   },
   {
    "duration": 5,
    "start_time": "2022-08-22T23:42:18.084Z"
   },
   {
    "duration": 4,
    "start_time": "2022-08-22T23:42:43.844Z"
   },
   {
    "duration": 11,
    "start_time": "2022-08-22T23:44:35.300Z"
   },
   {
    "duration": 10,
    "start_time": "2022-08-22T23:45:21.538Z"
   },
   {
    "duration": 9,
    "start_time": "2022-08-22T23:45:28.728Z"
   },
   {
    "duration": 166,
    "start_time": "2022-08-22T23:46:00.027Z"
   },
   {
    "duration": 15,
    "start_time": "2022-08-22T23:46:08.685Z"
   },
   {
    "duration": 4,
    "start_time": "2022-08-22T23:46:14.631Z"
   },
   {
    "duration": 6,
    "start_time": "2022-08-22T23:46:35.848Z"
   },
   {
    "duration": 4,
    "start_time": "2022-08-22T23:46:46.945Z"
   },
   {
    "duration": 3,
    "start_time": "2022-08-22T23:47:27.324Z"
   },
   {
    "duration": 5,
    "start_time": "2022-08-22T23:47:28.439Z"
   },
   {
    "duration": 4,
    "start_time": "2022-08-22T23:47:29.598Z"
   },
   {
    "duration": 76,
    "start_time": "2022-08-23T00:36:36.205Z"
   },
   {
    "duration": 97,
    "start_time": "2022-08-23T00:36:44.346Z"
   },
   {
    "duration": 8,
    "start_time": "2022-08-23T00:36:50.529Z"
   },
   {
    "duration": 8,
    "start_time": "2022-08-23T00:39:00.653Z"
   },
   {
    "duration": 25,
    "start_time": "2022-08-23T00:39:12.925Z"
   },
   {
    "duration": 31,
    "start_time": "2022-08-23T00:39:35.471Z"
   },
   {
    "duration": 29,
    "start_time": "2022-08-23T00:39:48.223Z"
   },
   {
    "duration": 20,
    "start_time": "2022-08-23T00:40:02.041Z"
   },
   {
    "duration": 18,
    "start_time": "2022-08-23T00:40:17.812Z"
   },
   {
    "duration": 28,
    "start_time": "2022-08-23T00:41:43.875Z"
   },
   {
    "duration": 34,
    "start_time": "2022-08-23T00:43:02.951Z"
   },
   {
    "duration": 37,
    "start_time": "2022-08-23T00:43:10.394Z"
   },
   {
    "duration": 39,
    "start_time": "2022-08-23T00:43:13.377Z"
   },
   {
    "duration": 29,
    "start_time": "2022-08-23T00:43:21.769Z"
   },
   {
    "duration": 36,
    "start_time": "2022-08-23T00:43:29.630Z"
   },
   {
    "duration": 32,
    "start_time": "2022-08-23T00:43:38.894Z"
   },
   {
    "duration": 33,
    "start_time": "2022-08-23T00:43:51.165Z"
   },
   {
    "duration": 31,
    "start_time": "2022-08-23T00:43:55.072Z"
   },
   {
    "duration": 60,
    "start_time": "2022-08-23T00:43:59.138Z"
   },
   {
    "duration": 27,
    "start_time": "2022-08-23T00:44:05.416Z"
   },
   {
    "duration": 30,
    "start_time": "2022-08-23T00:44:17.632Z"
   },
   {
    "duration": 38,
    "start_time": "2022-08-23T00:46:46.565Z"
   },
   {
    "duration": 30,
    "start_time": "2022-08-23T00:47:36.410Z"
   },
   {
    "duration": 31,
    "start_time": "2022-08-23T00:47:46.521Z"
   },
   {
    "duration": 32,
    "start_time": "2022-08-23T00:47:50.735Z"
   },
   {
    "duration": 30,
    "start_time": "2022-08-23T00:47:54.187Z"
   },
   {
    "duration": 30,
    "start_time": "2022-08-23T00:47:59.630Z"
   },
   {
    "duration": 17,
    "start_time": "2022-08-23T00:48:38.968Z"
   },
   {
    "duration": 20,
    "start_time": "2022-08-23T00:48:50.125Z"
   },
   {
    "duration": 36,
    "start_time": "2022-08-23T00:49:01.803Z"
   },
   {
    "duration": 17,
    "start_time": "2022-08-23T00:49:25.988Z"
   },
   {
    "duration": 29,
    "start_time": "2022-08-23T00:49:28.546Z"
   },
   {
    "duration": 28,
    "start_time": "2022-08-23T00:49:40.455Z"
   },
   {
    "duration": 19,
    "start_time": "2022-08-23T00:50:23.009Z"
   },
   {
    "duration": 21,
    "start_time": "2022-08-23T00:50:25.646Z"
   },
   {
    "duration": 12,
    "start_time": "2022-08-23T00:50:26.346Z"
   },
   {
    "duration": 17,
    "start_time": "2022-08-23T00:50:27.238Z"
   },
   {
    "duration": 12,
    "start_time": "2022-08-23T00:50:28.338Z"
   },
   {
    "duration": 14,
    "start_time": "2022-08-23T00:51:08.232Z"
   },
   {
    "duration": 14,
    "start_time": "2022-08-23T00:51:13.585Z"
   },
   {
    "duration": 13,
    "start_time": "2022-08-23T00:51:15.245Z"
   },
   {
    "duration": 17,
    "start_time": "2022-08-23T00:51:15.624Z"
   },
   {
    "duration": 11,
    "start_time": "2022-08-23T00:51:16.385Z"
   },
   {
    "duration": 20,
    "start_time": "2022-08-23T00:53:06.363Z"
   },
   {
    "duration": 27,
    "start_time": "2022-08-23T00:53:08.238Z"
   },
   {
    "duration": 20,
    "start_time": "2022-08-23T00:53:18.585Z"
   },
   {
    "duration": 19,
    "start_time": "2022-08-23T00:53:20.662Z"
   },
   {
    "duration": 13,
    "start_time": "2022-08-23T00:53:21.907Z"
   },
   {
    "duration": 21,
    "start_time": "2022-08-23T00:53:23.078Z"
   },
   {
    "duration": 13,
    "start_time": "2022-08-23T00:53:24.092Z"
   },
   {
    "duration": 12,
    "start_time": "2022-08-23T00:53:51.866Z"
   },
   {
    "duration": 15,
    "start_time": "2022-08-23T00:53:52.980Z"
   },
   {
    "duration": 10,
    "start_time": "2022-08-23T00:53:53.734Z"
   },
   {
    "duration": 14,
    "start_time": "2022-08-23T00:54:04.398Z"
   },
   {
    "duration": 10,
    "start_time": "2022-08-23T00:54:05.379Z"
   },
   {
    "duration": 3,
    "start_time": "2022-08-23T01:38:20.951Z"
   },
   {
    "duration": 249,
    "start_time": "2022-08-23T01:38:26.190Z"
   },
   {
    "duration": 7,
    "start_time": "2022-08-23T01:38:30.394Z"
   },
   {
    "duration": 3,
    "start_time": "2022-08-23T01:41:23.628Z"
   },
   {
    "duration": 244,
    "start_time": "2022-08-23T01:41:25.751Z"
   },
   {
    "duration": 10,
    "start_time": "2022-08-23T01:41:39.121Z"
   },
   {
    "duration": 24,
    "start_time": "2022-08-23T01:41:46.108Z"
   },
   {
    "duration": 4,
    "start_time": "2022-08-23T01:41:57.432Z"
   },
   {
    "duration": 11,
    "start_time": "2022-08-23T01:41:59.443Z"
   },
   {
    "duration": 4,
    "start_time": "2022-08-23T01:42:01.559Z"
   },
   {
    "duration": 20,
    "start_time": "2022-08-23T01:42:08.279Z"
   },
   {
    "duration": 16,
    "start_time": "2022-08-23T01:42:10.982Z"
   },
   {
    "duration": 20,
    "start_time": "2022-08-23T01:42:12.218Z"
   },
   {
    "duration": 52,
    "start_time": "2022-08-23T01:42:14.139Z"
   },
   {
    "duration": 58,
    "start_time": "2022-08-23T01:42:16.041Z"
   },
   {
    "duration": 56,
    "start_time": "2022-08-23T01:42:17.191Z"
   },
   {
    "duration": 36,
    "start_time": "2022-08-23T01:42:20.099Z"
   },
   {
    "duration": 3,
    "start_time": "2022-08-23T01:42:22.122Z"
   },
   {
    "duration": 11,
    "start_time": "2022-08-23T01:42:23.930Z"
   },
   {
    "duration": 6,
    "start_time": "2022-08-23T01:42:25.848Z"
   },
   {
    "duration": 13,
    "start_time": "2022-08-23T01:42:31.768Z"
   },
   {
    "duration": 23,
    "start_time": "2022-08-23T01:42:34.605Z"
   },
   {
    "duration": 3,
    "start_time": "2022-08-23T01:42:36.837Z"
   },
   {
    "duration": 3,
    "start_time": "2022-08-23T01:42:40.708Z"
   },
   {
    "duration": 15,
    "start_time": "2022-08-23T01:42:59.621Z"
   },
   {
    "duration": 3,
    "start_time": "2022-08-23T01:43:12.424Z"
   },
   {
    "duration": 22,
    "start_time": "2022-08-23T01:43:13.638Z"
   },
   {
    "duration": 4,
    "start_time": "2022-08-23T01:43:21.531Z"
   },
   {
    "duration": 16,
    "start_time": "2022-08-23T01:43:22.859Z"
   },
   {
    "duration": 14,
    "start_time": "2022-08-23T01:43:23.459Z"
   },
   {
    "duration": 14,
    "start_time": "2022-08-23T01:43:23.988Z"
   },
   {
    "duration": 12,
    "start_time": "2022-08-23T01:43:24.556Z"
   },
   {
    "duration": 16,
    "start_time": "2022-08-23T01:43:25.011Z"
   },
   {
    "duration": 16,
    "start_time": "2022-08-23T01:43:25.599Z"
   },
   {
    "duration": 7,
    "start_time": "2022-08-23T01:43:28.507Z"
   },
   {
    "duration": 10,
    "start_time": "2022-08-23T01:43:44.331Z"
   },
   {
    "duration": 20,
    "start_time": "2022-08-23T01:43:54.027Z"
   },
   {
    "duration": 19,
    "start_time": "2022-08-23T01:43:57.248Z"
   },
   {
    "duration": 13,
    "start_time": "2022-08-23T01:44:06.550Z"
   },
   {
    "duration": 14,
    "start_time": "2022-08-23T01:44:08.250Z"
   },
   {
    "duration": 11,
    "start_time": "2022-08-23T01:44:09.132Z"
   },
   {
    "duration": 15,
    "start_time": "2022-08-23T01:44:10.188Z"
   },
   {
    "duration": 11,
    "start_time": "2022-08-23T01:44:11.358Z"
   },
   {
    "duration": 8,
    "start_time": "2022-08-23T01:44:17.794Z"
   },
   {
    "duration": 4,
    "start_time": "2022-08-23T01:44:19.383Z"
   },
   {
    "duration": 5,
    "start_time": "2022-08-23T01:44:21.039Z"
   },
   {
    "duration": 4,
    "start_time": "2022-08-23T01:44:24.665Z"
   },
   {
    "duration": 76,
    "start_time": "2022-08-23T01:45:27.707Z"
   },
   {
    "duration": 436,
    "start_time": "2022-08-23T16:10:20.165Z"
   },
   {
    "duration": 69,
    "start_time": "2022-08-23T16:10:21.023Z"
   },
   {
    "duration": 25,
    "start_time": "2022-08-23T16:10:21.095Z"
   },
   {
    "duration": 44,
    "start_time": "2022-08-23T16:10:21.122Z"
   },
   {
    "duration": 12,
    "start_time": "2022-08-23T16:10:21.168Z"
   },
   {
    "duration": 38,
    "start_time": "2022-08-23T16:10:21.182Z"
   },
   {
    "duration": 17,
    "start_time": "2022-08-23T16:10:21.222Z"
   },
   {
    "duration": 31,
    "start_time": "2022-08-23T16:10:21.242Z"
   },
   {
    "duration": 71,
    "start_time": "2022-08-23T16:10:21.301Z"
   },
   {
    "duration": 116,
    "start_time": "2022-08-23T16:10:21.375Z"
   },
   {
    "duration": 81,
    "start_time": "2022-08-23T16:10:21.493Z"
   },
   {
    "duration": 62,
    "start_time": "2022-08-23T16:10:21.578Z"
   },
   {
    "duration": 4,
    "start_time": "2022-08-23T16:10:21.643Z"
   },
   {
    "duration": 22,
    "start_time": "2022-08-23T16:10:21.649Z"
   },
   {
    "duration": 10,
    "start_time": "2022-08-23T16:10:21.673Z"
   },
   {
    "duration": 23,
    "start_time": "2022-08-23T16:10:21.700Z"
   },
   {
    "duration": 39,
    "start_time": "2022-08-23T16:10:21.725Z"
   },
   {
    "duration": 3,
    "start_time": "2022-08-23T16:10:21.765Z"
   },
   {
    "duration": 43,
    "start_time": "2022-08-23T16:10:21.770Z"
   },
   {
    "duration": 26,
    "start_time": "2022-08-23T16:10:21.816Z"
   },
   {
    "duration": 21,
    "start_time": "2022-08-23T16:10:21.844Z"
   },
   {
    "duration": 15,
    "start_time": "2022-08-23T16:10:21.866Z"
   },
   {
    "duration": 25,
    "start_time": "2022-08-23T16:10:21.883Z"
   },
   {
    "duration": 17,
    "start_time": "2022-08-23T16:10:21.910Z"
   },
   {
    "duration": 15,
    "start_time": "2022-08-23T16:10:21.928Z"
   },
   {
    "duration": 9,
    "start_time": "2022-08-23T16:10:21.944Z"
   },
   {
    "duration": 57,
    "start_time": "2022-08-23T16:10:21.955Z"
   },
   {
    "duration": 20,
    "start_time": "2022-08-23T16:10:22.014Z"
   },
   {
    "duration": 15,
    "start_time": "2022-08-23T16:10:22.035Z"
   },
   {
    "duration": 23,
    "start_time": "2022-08-23T16:10:22.052Z"
   },
   {
    "duration": 13,
    "start_time": "2022-08-23T16:10:22.099Z"
   },
   {
    "duration": 15,
    "start_time": "2022-08-23T16:10:22.114Z"
   },
   {
    "duration": 14,
    "start_time": "2022-08-23T16:10:22.131Z"
   },
   {
    "duration": 11,
    "start_time": "2022-08-23T16:10:22.147Z"
   },
   {
    "duration": 43,
    "start_time": "2022-08-23T16:10:22.160Z"
   },
   {
    "duration": 8,
    "start_time": "2022-08-23T16:10:22.205Z"
   },
   {
    "duration": 8,
    "start_time": "2022-08-23T16:10:22.215Z"
   },
   {
    "duration": 46,
    "start_time": "2022-08-23T22:59:04.390Z"
   },
   {
    "duration": 430,
    "start_time": "2022-08-23T22:59:11.956Z"
   },
   {
    "duration": 356,
    "start_time": "2022-08-23T22:59:12.388Z"
   },
   {
    "duration": 10,
    "start_time": "2022-08-23T22:59:12.746Z"
   },
   {
    "duration": 34,
    "start_time": "2022-08-23T22:59:12.758Z"
   },
   {
    "duration": 8,
    "start_time": "2022-08-23T22:59:12.793Z"
   },
   {
    "duration": 13,
    "start_time": "2022-08-23T22:59:12.803Z"
   },
   {
    "duration": 12,
    "start_time": "2022-08-23T22:59:12.819Z"
   },
   {
    "duration": 26,
    "start_time": "2022-08-23T22:59:12.833Z"
   },
   {
    "duration": 37,
    "start_time": "2022-08-23T22:59:12.860Z"
   },
   {
    "duration": 24,
    "start_time": "2022-08-23T22:59:12.901Z"
   },
   {
    "duration": 74,
    "start_time": "2022-08-23T22:59:12.927Z"
   },
   {
    "duration": 85,
    "start_time": "2022-08-23T22:59:13.002Z"
   },
   {
    "duration": 69,
    "start_time": "2022-08-23T22:59:13.089Z"
   },
   {
    "duration": 50,
    "start_time": "2022-08-23T22:59:13.159Z"
   },
   {
    "duration": 3,
    "start_time": "2022-08-23T22:59:13.211Z"
   },
   {
    "duration": 17,
    "start_time": "2022-08-23T22:59:13.216Z"
   },
   {
    "duration": 10,
    "start_time": "2022-08-23T22:59:13.235Z"
   },
   {
    "duration": 14,
    "start_time": "2022-08-23T22:59:13.247Z"
   },
   {
    "duration": 41,
    "start_time": "2022-08-23T22:59:13.263Z"
   },
   {
    "duration": 3,
    "start_time": "2022-08-23T22:59:13.306Z"
   },
   {
    "duration": 7,
    "start_time": "2022-08-23T22:59:13.311Z"
   },
   {
    "duration": 20,
    "start_time": "2022-08-23T22:59:13.320Z"
   },
   {
    "duration": 14,
    "start_time": "2022-08-23T22:59:13.342Z"
   },
   {
    "duration": 35,
    "start_time": "2022-08-23T22:59:13.358Z"
   },
   {
    "duration": 14,
    "start_time": "2022-08-23T22:59:13.395Z"
   },
   {
    "duration": 16,
    "start_time": "2022-08-23T22:59:13.410Z"
   },
   {
    "duration": 14,
    "start_time": "2022-08-23T22:59:13.427Z"
   },
   {
    "duration": 9,
    "start_time": "2022-08-23T22:59:13.444Z"
   },
   {
    "duration": 51,
    "start_time": "2022-08-23T22:59:13.454Z"
   },
   {
    "duration": 18,
    "start_time": "2022-08-23T22:59:13.507Z"
   },
   {
    "duration": 14,
    "start_time": "2022-08-23T22:59:13.527Z"
   },
   {
    "duration": 20,
    "start_time": "2022-08-23T22:59:13.542Z"
   },
   {
    "duration": 33,
    "start_time": "2022-08-23T22:59:13.564Z"
   },
   {
    "duration": 19,
    "start_time": "2022-08-23T22:59:13.598Z"
   },
   {
    "duration": 10,
    "start_time": "2022-08-23T22:59:13.619Z"
   },
   {
    "duration": 8,
    "start_time": "2022-08-23T22:59:13.630Z"
   },
   {
    "duration": 3,
    "start_time": "2022-08-23T22:59:13.640Z"
   },
   {
    "duration": 43,
    "start_time": "2022-08-23T22:59:13.644Z"
   },
   {
    "duration": 3,
    "start_time": "2022-08-23T22:59:13.689Z"
   },
   {
    "duration": 17,
    "start_time": "2022-08-23T22:59:29.882Z"
   },
   {
    "duration": 22,
    "start_time": "2022-08-23T22:59:31.545Z"
   },
   {
    "duration": 16,
    "start_time": "2022-08-23T23:05:42.486Z"
   },
   {
    "duration": 26,
    "start_time": "2022-08-23T23:06:04.615Z"
   },
   {
    "duration": 3,
    "start_time": "2022-08-23T23:10:19.068Z"
   },
   {
    "duration": 8,
    "start_time": "2022-08-23T23:10:20.407Z"
   },
   {
    "duration": 7,
    "start_time": "2022-08-23T23:10:25.841Z"
   },
   {
    "duration": 426,
    "start_time": "2022-08-24T19:45:55.339Z"
   },
   {
    "duration": 492,
    "start_time": "2022-08-24T19:45:55.767Z"
   },
   {
    "duration": 17,
    "start_time": "2022-08-24T19:45:56.261Z"
   },
   {
    "duration": 60,
    "start_time": "2022-08-24T19:45:56.280Z"
   },
   {
    "duration": 13,
    "start_time": "2022-08-24T19:45:56.343Z"
   },
   {
    "duration": 38,
    "start_time": "2022-08-24T19:45:56.358Z"
   },
   {
    "duration": 53,
    "start_time": "2022-08-24T19:45:56.398Z"
   },
   {
    "duration": 74,
    "start_time": "2022-08-24T19:45:56.453Z"
   },
   {
    "duration": 33,
    "start_time": "2022-08-24T19:45:56.530Z"
   },
   {
    "duration": 37,
    "start_time": "2022-08-24T19:45:56.565Z"
   },
   {
    "duration": 113,
    "start_time": "2022-08-24T19:45:56.614Z"
   },
   {
    "duration": 90,
    "start_time": "2022-08-24T19:45:56.730Z"
   },
   {
    "duration": 68,
    "start_time": "2022-08-24T19:45:56.823Z"
   },
   {
    "duration": 72,
    "start_time": "2022-08-24T19:45:56.895Z"
   },
   {
    "duration": 24,
    "start_time": "2022-08-24T19:45:56.969Z"
   },
   {
    "duration": 40,
    "start_time": "2022-08-24T19:45:56.996Z"
   },
   {
    "duration": 37,
    "start_time": "2022-08-24T19:45:57.040Z"
   },
   {
    "duration": 69,
    "start_time": "2022-08-24T19:45:57.079Z"
   },
   {
    "duration": 28,
    "start_time": "2022-08-24T19:45:57.151Z"
   },
   {
    "duration": 3,
    "start_time": "2022-08-24T19:45:57.181Z"
   },
   {
    "duration": 7,
    "start_time": "2022-08-24T19:45:57.186Z"
   },
   {
    "duration": 32,
    "start_time": "2022-08-24T19:45:57.195Z"
   },
   {
    "duration": 31,
    "start_time": "2022-08-24T19:45:57.229Z"
   },
   {
    "duration": 18,
    "start_time": "2022-08-24T19:45:57.262Z"
   },
   {
    "duration": 18,
    "start_time": "2022-08-24T19:45:57.282Z"
   },
   {
    "duration": 44,
    "start_time": "2022-08-24T19:45:57.302Z"
   },
   {
    "duration": 17,
    "start_time": "2022-08-24T19:45:57.347Z"
   },
   {
    "duration": 12,
    "start_time": "2022-08-24T19:45:57.366Z"
   },
   {
    "duration": 49,
    "start_time": "2022-08-24T19:45:57.379Z"
   },
   {
    "duration": 34,
    "start_time": "2022-08-24T19:45:57.432Z"
   },
   {
    "duration": 17,
    "start_time": "2022-08-24T19:45:57.468Z"
   },
   {
    "duration": 57,
    "start_time": "2022-08-24T19:45:57.488Z"
   },
   {
    "duration": 18,
    "start_time": "2022-08-24T19:45:57.547Z"
   },
   {
    "duration": 22,
    "start_time": "2022-08-24T19:45:57.567Z"
   },
   {
    "duration": 23,
    "start_time": "2022-08-24T19:45:57.591Z"
   },
   {
    "duration": 27,
    "start_time": "2022-08-24T19:45:57.624Z"
   },
   {
    "duration": 5,
    "start_time": "2022-08-24T19:45:57.652Z"
   },
   {
    "duration": 12,
    "start_time": "2022-08-24T19:45:57.659Z"
   },
   {
    "duration": 7,
    "start_time": "2022-08-24T19:45:57.673Z"
   }
  ],
  "colab": {
   "collapsed_sections": [
    "E0vqbgi9ay0H",
    "VUC88oWjTJw2",
    "atZAxtq4_Zcu"
   ],
   "name": "EmptyFinalProject.ipynb\"",
   "provenance": []
  },
  "kernelspec": {
   "display_name": "Python 3 (ipykernel)",
   "language": "python",
   "name": "python3"
  },
  "language_info": {
   "codemirror_mode": {
    "name": "ipython",
    "version": 3
   },
   "file_extension": ".py",
   "mimetype": "text/x-python",
   "name": "python",
   "nbconvert_exporter": "python",
   "pygments_lexer": "ipython3",
   "version": "3.9.5"
  },
  "toc": {
   "base_numbering": 1,
   "nav_menu": {},
   "number_sections": true,
   "sideBar": true,
   "skip_h1_title": true,
   "title_cell": "Table of Contents",
   "title_sidebar": "Contents",
   "toc_cell": false,
   "toc_position": {},
   "toc_section_display": true,
   "toc_window_display": false
  }
 },
 "nbformat": 4,
 "nbformat_minor": 4
}
